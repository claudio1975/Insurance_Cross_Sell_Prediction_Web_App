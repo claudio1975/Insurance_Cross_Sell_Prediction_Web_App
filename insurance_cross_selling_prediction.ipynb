{
  "cells": [
    {
      "cell_type": "markdown",
      "metadata": {
        "id": "view-in-github",
        "colab_type": "text"
      },
      "source": [
        "<a href=\"https://colab.research.google.com/github/claudio1975/Insurance_Cross_Sell_Prediction_Web_App/blob/main/insurance_cross_selling_prediction.ipynb\" target=\"_parent\"><img src=\"https://colab.research.google.com/assets/colab-badge.svg\" alt=\"Open In Colab\"/></a>"
      ]
    },
    {
      "cell_type": "markdown",
      "source": [
        "# Health Insurance Cross Selling Prediction"
      ],
      "metadata": {
        "id": "-vO84T2WcYbH"
      },
      "id": "-vO84T2WcYbH"
    },
    {
      "cell_type": "markdown",
      "id": "263f8c00",
      "metadata": {
        "papermill": {
          "duration": 0.018122,
          "end_time": "2022-12-03T18:54:53.307051",
          "exception": false,
          "start_time": "2022-12-03T18:54:53.288929",
          "status": "completed"
        },
        "tags": [],
        "id": "263f8c00"
      },
      "source": [
        "# Prepare Workspace"
      ]
    },
    {
      "cell_type": "code",
      "source": [
        "!pip install shap"
      ],
      "metadata": {
        "colab": {
          "base_uri": "https://localhost:8080/"
        },
        "id": "5SDZS3ezdKFB",
        "outputId": "c78524ff-9c75-44e7-ce3d-bf045b3668e3"
      },
      "id": "5SDZS3ezdKFB",
      "execution_count": 2,
      "outputs": [
        {
          "output_type": "stream",
          "name": "stdout",
          "text": [
            "Looking in indexes: https://pypi.org/simple, https://us-python.pkg.dev/colab-wheels/public/simple/\n",
            "Collecting shap\n",
            "  Downloading shap-0.41.0-cp38-cp38-manylinux_2_12_x86_64.manylinux2010_x86_64.whl (575 kB)\n",
            "\u001b[K     |████████████████████████████████| 575 kB 28.9 MB/s \n",
            "\u001b[?25hRequirement already satisfied: tqdm>4.25.0 in /usr/local/lib/python3.8/dist-packages (from shap) (4.64.1)\n",
            "Requirement already satisfied: scikit-learn in /usr/local/lib/python3.8/dist-packages (from shap) (1.0.2)\n",
            "Requirement already satisfied: scipy in /usr/local/lib/python3.8/dist-packages (from shap) (1.7.3)\n",
            "Requirement already satisfied: cloudpickle in /usr/local/lib/python3.8/dist-packages (from shap) (1.5.0)\n",
            "Requirement already satisfied: pandas in /usr/local/lib/python3.8/dist-packages (from shap) (1.3.5)\n",
            "Collecting slicer==0.0.7\n",
            "  Downloading slicer-0.0.7-py3-none-any.whl (14 kB)\n",
            "Requirement already satisfied: numpy in /usr/local/lib/python3.8/dist-packages (from shap) (1.21.6)\n",
            "Requirement already satisfied: packaging>20.9 in /usr/local/lib/python3.8/dist-packages (from shap) (21.3)\n",
            "Requirement already satisfied: numba in /usr/local/lib/python3.8/dist-packages (from shap) (0.56.4)\n",
            "Requirement already satisfied: pyparsing!=3.0.5,>=2.0.2 in /usr/local/lib/python3.8/dist-packages (from packaging>20.9->shap) (3.0.9)\n",
            "Requirement already satisfied: importlib-metadata in /usr/local/lib/python3.8/dist-packages (from numba->shap) (4.13.0)\n",
            "Requirement already satisfied: llvmlite<0.40,>=0.39.0dev0 in /usr/local/lib/python3.8/dist-packages (from numba->shap) (0.39.1)\n",
            "Requirement already satisfied: setuptools in /usr/local/lib/python3.8/dist-packages (from numba->shap) (57.4.0)\n",
            "Requirement already satisfied: zipp>=0.5 in /usr/local/lib/python3.8/dist-packages (from importlib-metadata->numba->shap) (3.10.0)\n",
            "Requirement already satisfied: pytz>=2017.3 in /usr/local/lib/python3.8/dist-packages (from pandas->shap) (2022.6)\n",
            "Requirement already satisfied: python-dateutil>=2.7.3 in /usr/local/lib/python3.8/dist-packages (from pandas->shap) (2.8.2)\n",
            "Requirement already satisfied: six>=1.5 in /usr/local/lib/python3.8/dist-packages (from python-dateutil>=2.7.3->pandas->shap) (1.15.0)\n",
            "Requirement already satisfied: joblib>=0.11 in /usr/local/lib/python3.8/dist-packages (from scikit-learn->shap) (1.2.0)\n",
            "Requirement already satisfied: threadpoolctl>=2.0.0 in /usr/local/lib/python3.8/dist-packages (from scikit-learn->shap) (3.1.0)\n",
            "Installing collected packages: slicer, shap\n",
            "Successfully installed shap-0.41.0 slicer-0.0.7\n"
          ]
        }
      ]
    },
    {
      "cell_type": "code",
      "execution_count": 3,
      "id": "3c4b3892",
      "metadata": {
        "execution": {
          "iopub.execute_input": "2022-12-03T18:54:53.389458Z",
          "iopub.status.busy": "2022-12-03T18:54:53.388596Z",
          "iopub.status.idle": "2022-12-03T18:55:00.818583Z",
          "shell.execute_reply": "2022-12-03T18:55:00.817626Z"
        },
        "papermill": {
          "duration": 7.448649,
          "end_time": "2022-12-03T18:55:00.821351",
          "exception": false,
          "start_time": "2022-12-03T18:54:53.372702",
          "status": "completed"
        },
        "tags": [],
        "id": "3c4b3892"
      },
      "outputs": [],
      "source": [
        "import numpy as np\n",
        "import pandas as pd\n",
        "\n",
        "import matplotlib.pyplot as plt\n",
        "plt.style.use('ggplot')\n",
        "%matplotlib inline\n",
        "import seaborn as sns\n",
        "import scipy.stats as stats\n",
        "import sklearn\n",
        "from sklearn.model_selection import train_test_split\n",
        "from sklearn.preprocessing import MinMaxScaler\n",
        "from sklearn.metrics import roc_auc_score\n",
        "from sklearn.metrics import roc_curve, auc\n",
        "from sklearn.model_selection import StratifiedKFold\n",
        "from sklearn.model_selection import GridSearchCV\n",
        "from sklearn.model_selection import RandomizedSearchCV\n",
        "from sklearn.linear_model import LogisticRegression\n",
        "from sklearn.naive_bayes import GaussianNB\n",
        "from sklearn.ensemble import HistGradientBoostingClassifier\n",
        "from sklearn.neighbors import KNeighborsClassifier\n",
        "import time\n",
        "import shap\n",
        "\n",
        "import warnings\n",
        "warnings.simplefilter(action='ignore', category=UserWarning)\n",
        "warnings.simplefilter(action='ignore', category=FutureWarning)\n"
      ]
    },
    {
      "cell_type": "code",
      "source": [
        "from google.colab import files \n",
        "uploaded = files.upload()"
      ],
      "metadata": {
        "colab": {
          "base_uri": "https://localhost:8080/",
          "height": 74
        },
        "id": "FAEm0GClcmcD",
        "outputId": "a59df3a8-a9e2-4f07-f448-7bb3ccdd6d29"
      },
      "id": "FAEm0GClcmcD",
      "execution_count": 4,
      "outputs": [
        {
          "output_type": "display_data",
          "data": {
            "text/plain": [
              "<IPython.core.display.HTML object>"
            ],
            "text/html": [
              "\n",
              "     <input type=\"file\" id=\"files-8ee57b2a-4e89-4ddf-8c10-9f713fa8cdc0\" name=\"files[]\" multiple disabled\n",
              "        style=\"border:none\" />\n",
              "     <output id=\"result-8ee57b2a-4e89-4ddf-8c10-9f713fa8cdc0\">\n",
              "      Upload widget is only available when the cell has been executed in the\n",
              "      current browser session. Please rerun this cell to enable.\n",
              "      </output>\n",
              "      <script>// Copyright 2017 Google LLC\n",
              "//\n",
              "// Licensed under the Apache License, Version 2.0 (the \"License\");\n",
              "// you may not use this file except in compliance with the License.\n",
              "// You may obtain a copy of the License at\n",
              "//\n",
              "//      http://www.apache.org/licenses/LICENSE-2.0\n",
              "//\n",
              "// Unless required by applicable law or agreed to in writing, software\n",
              "// distributed under the License is distributed on an \"AS IS\" BASIS,\n",
              "// WITHOUT WARRANTIES OR CONDITIONS OF ANY KIND, either express or implied.\n",
              "// See the License for the specific language governing permissions and\n",
              "// limitations under the License.\n",
              "\n",
              "/**\n",
              " * @fileoverview Helpers for google.colab Python module.\n",
              " */\n",
              "(function(scope) {\n",
              "function span(text, styleAttributes = {}) {\n",
              "  const element = document.createElement('span');\n",
              "  element.textContent = text;\n",
              "  for (const key of Object.keys(styleAttributes)) {\n",
              "    element.style[key] = styleAttributes[key];\n",
              "  }\n",
              "  return element;\n",
              "}\n",
              "\n",
              "// Max number of bytes which will be uploaded at a time.\n",
              "const MAX_PAYLOAD_SIZE = 100 * 1024;\n",
              "\n",
              "function _uploadFiles(inputId, outputId) {\n",
              "  const steps = uploadFilesStep(inputId, outputId);\n",
              "  const outputElement = document.getElementById(outputId);\n",
              "  // Cache steps on the outputElement to make it available for the next call\n",
              "  // to uploadFilesContinue from Python.\n",
              "  outputElement.steps = steps;\n",
              "\n",
              "  return _uploadFilesContinue(outputId);\n",
              "}\n",
              "\n",
              "// This is roughly an async generator (not supported in the browser yet),\n",
              "// where there are multiple asynchronous steps and the Python side is going\n",
              "// to poll for completion of each step.\n",
              "// This uses a Promise to block the python side on completion of each step,\n",
              "// then passes the result of the previous step as the input to the next step.\n",
              "function _uploadFilesContinue(outputId) {\n",
              "  const outputElement = document.getElementById(outputId);\n",
              "  const steps = outputElement.steps;\n",
              "\n",
              "  const next = steps.next(outputElement.lastPromiseValue);\n",
              "  return Promise.resolve(next.value.promise).then((value) => {\n",
              "    // Cache the last promise value to make it available to the next\n",
              "    // step of the generator.\n",
              "    outputElement.lastPromiseValue = value;\n",
              "    return next.value.response;\n",
              "  });\n",
              "}\n",
              "\n",
              "/**\n",
              " * Generator function which is called between each async step of the upload\n",
              " * process.\n",
              " * @param {string} inputId Element ID of the input file picker element.\n",
              " * @param {string} outputId Element ID of the output display.\n",
              " * @return {!Iterable<!Object>} Iterable of next steps.\n",
              " */\n",
              "function* uploadFilesStep(inputId, outputId) {\n",
              "  const inputElement = document.getElementById(inputId);\n",
              "  inputElement.disabled = false;\n",
              "\n",
              "  const outputElement = document.getElementById(outputId);\n",
              "  outputElement.innerHTML = '';\n",
              "\n",
              "  const pickedPromise = new Promise((resolve) => {\n",
              "    inputElement.addEventListener('change', (e) => {\n",
              "      resolve(e.target.files);\n",
              "    });\n",
              "  });\n",
              "\n",
              "  const cancel = document.createElement('button');\n",
              "  inputElement.parentElement.appendChild(cancel);\n",
              "  cancel.textContent = 'Cancel upload';\n",
              "  const cancelPromise = new Promise((resolve) => {\n",
              "    cancel.onclick = () => {\n",
              "      resolve(null);\n",
              "    };\n",
              "  });\n",
              "\n",
              "  // Wait for the user to pick the files.\n",
              "  const files = yield {\n",
              "    promise: Promise.race([pickedPromise, cancelPromise]),\n",
              "    response: {\n",
              "      action: 'starting',\n",
              "    }\n",
              "  };\n",
              "\n",
              "  cancel.remove();\n",
              "\n",
              "  // Disable the input element since further picks are not allowed.\n",
              "  inputElement.disabled = true;\n",
              "\n",
              "  if (!files) {\n",
              "    return {\n",
              "      response: {\n",
              "        action: 'complete',\n",
              "      }\n",
              "    };\n",
              "  }\n",
              "\n",
              "  for (const file of files) {\n",
              "    const li = document.createElement('li');\n",
              "    li.append(span(file.name, {fontWeight: 'bold'}));\n",
              "    li.append(span(\n",
              "        `(${file.type || 'n/a'}) - ${file.size} bytes, ` +\n",
              "        `last modified: ${\n",
              "            file.lastModifiedDate ? file.lastModifiedDate.toLocaleDateString() :\n",
              "                                    'n/a'} - `));\n",
              "    const percent = span('0% done');\n",
              "    li.appendChild(percent);\n",
              "\n",
              "    outputElement.appendChild(li);\n",
              "\n",
              "    const fileDataPromise = new Promise((resolve) => {\n",
              "      const reader = new FileReader();\n",
              "      reader.onload = (e) => {\n",
              "        resolve(e.target.result);\n",
              "      };\n",
              "      reader.readAsArrayBuffer(file);\n",
              "    });\n",
              "    // Wait for the data to be ready.\n",
              "    let fileData = yield {\n",
              "      promise: fileDataPromise,\n",
              "      response: {\n",
              "        action: 'continue',\n",
              "      }\n",
              "    };\n",
              "\n",
              "    // Use a chunked sending to avoid message size limits. See b/62115660.\n",
              "    let position = 0;\n",
              "    do {\n",
              "      const length = Math.min(fileData.byteLength - position, MAX_PAYLOAD_SIZE);\n",
              "      const chunk = new Uint8Array(fileData, position, length);\n",
              "      position += length;\n",
              "\n",
              "      const base64 = btoa(String.fromCharCode.apply(null, chunk));\n",
              "      yield {\n",
              "        response: {\n",
              "          action: 'append',\n",
              "          file: file.name,\n",
              "          data: base64,\n",
              "        },\n",
              "      };\n",
              "\n",
              "      let percentDone = fileData.byteLength === 0 ?\n",
              "          100 :\n",
              "          Math.round((position / fileData.byteLength) * 100);\n",
              "      percent.textContent = `${percentDone}% done`;\n",
              "\n",
              "    } while (position < fileData.byteLength);\n",
              "  }\n",
              "\n",
              "  // All done.\n",
              "  yield {\n",
              "    response: {\n",
              "      action: 'complete',\n",
              "    }\n",
              "  };\n",
              "}\n",
              "\n",
              "scope.google = scope.google || {};\n",
              "scope.google.colab = scope.google.colab || {};\n",
              "scope.google.colab._files = {\n",
              "  _uploadFiles,\n",
              "  _uploadFilesContinue,\n",
              "};\n",
              "})(self);\n",
              "</script> "
            ]
          },
          "metadata": {}
        },
        {
          "output_type": "stream",
          "name": "stdout",
          "text": [
            "Saving train.csv to train.csv\n"
          ]
        }
      ]
    },
    {
      "cell_type": "code",
      "execution_count": 5,
      "id": "0b74c421",
      "metadata": {
        "execution": {
          "iopub.execute_input": "2022-12-03T18:55:00.854195Z",
          "iopub.status.busy": "2022-12-03T18:55:00.852590Z",
          "iopub.status.idle": "2022-12-03T18:55:01.492248Z",
          "shell.execute_reply": "2022-12-03T18:55:01.491047Z"
        },
        "papermill": {
          "duration": 0.658131,
          "end_time": "2022-12-03T18:55:01.494755",
          "exception": false,
          "start_time": "2022-12-03T18:55:00.836624",
          "status": "completed"
        },
        "tags": [],
        "id": "0b74c421"
      },
      "outputs": [],
      "source": [
        "df = pd.read_csv('train.csv')"
      ]
    },
    {
      "cell_type": "markdown",
      "id": "7939a08a",
      "metadata": {
        "papermill": {
          "duration": 0.014946,
          "end_time": "2022-12-03T18:55:01.525002",
          "exception": false,
          "start_time": "2022-12-03T18:55:01.510056",
          "status": "completed"
        },
        "tags": [],
        "id": "7939a08a"
      },
      "source": [
        "# Data Set Overview"
      ]
    },
    {
      "cell_type": "code",
      "execution_count": 6,
      "id": "0f9537c7",
      "metadata": {
        "execution": {
          "iopub.execute_input": "2022-12-03T18:55:01.557789Z",
          "iopub.status.busy": "2022-12-03T18:55:01.556996Z",
          "iopub.status.idle": "2022-12-03T18:55:01.563252Z",
          "shell.execute_reply": "2022-12-03T18:55:01.562183Z"
        },
        "papermill": {
          "duration": 0.026403,
          "end_time": "2022-12-03T18:55:01.566355",
          "exception": false,
          "start_time": "2022-12-03T18:55:01.539952",
          "status": "completed"
        },
        "tags": [],
        "colab": {
          "base_uri": "https://localhost:8080/"
        },
        "id": "0f9537c7",
        "outputId": "df2e4f73-20fa-4e3e-b607-7ad4821a485a"
      },
      "outputs": [
        {
          "output_type": "stream",
          "name": "stdout",
          "text": [
            "(381109, 12)\n"
          ]
        }
      ],
      "source": [
        "print(df.shape)"
      ]
    },
    {
      "cell_type": "code",
      "execution_count": 7,
      "id": "b6bf9a62",
      "metadata": {
        "execution": {
          "iopub.execute_input": "2022-12-03T18:55:01.601047Z",
          "iopub.status.busy": "2022-12-03T18:55:01.600092Z",
          "iopub.status.idle": "2022-12-03T18:55:01.685300Z",
          "shell.execute_reply": "2022-12-03T18:55:01.683873Z"
        },
        "papermill": {
          "duration": 0.104232,
          "end_time": "2022-12-03T18:55:01.687566",
          "exception": false,
          "start_time": "2022-12-03T18:55:01.583334",
          "status": "completed"
        },
        "tags": [],
        "colab": {
          "base_uri": "https://localhost:8080/"
        },
        "id": "b6bf9a62",
        "outputId": "a9432d81-f02d-40b6-9d1c-cfecf77bd178"
      },
      "outputs": [
        {
          "output_type": "stream",
          "name": "stdout",
          "text": [
            "<class 'pandas.core.frame.DataFrame'>\n",
            "RangeIndex: 381109 entries, 0 to 381108\n",
            "Data columns (total 12 columns):\n",
            " #   Column                Non-Null Count   Dtype  \n",
            "---  ------                --------------   -----  \n",
            " 0   id                    381109 non-null  int64  \n",
            " 1   Gender                381109 non-null  object \n",
            " 2   Age                   381109 non-null  int64  \n",
            " 3   Driving_License       381109 non-null  int64  \n",
            " 4   Region_Code           381109 non-null  float64\n",
            " 5   Previously_Insured    381109 non-null  int64  \n",
            " 6   Vehicle_Age           381109 non-null  object \n",
            " 7   Vehicle_Damage        381109 non-null  object \n",
            " 8   Annual_Premium        381109 non-null  float64\n",
            " 9   Policy_Sales_Channel  381109 non-null  float64\n",
            " 10  Vintage               381109 non-null  int64  \n",
            " 11  Response              381109 non-null  int64  \n",
            "dtypes: float64(3), int64(6), object(3)\n",
            "memory usage: 34.9+ MB\n",
            "None\n"
          ]
        }
      ],
      "source": [
        "print(df.info())"
      ]
    },
    {
      "cell_type": "code",
      "execution_count": 8,
      "id": "817e2942",
      "metadata": {
        "execution": {
          "iopub.execute_input": "2022-12-03T18:55:01.719768Z",
          "iopub.status.busy": "2022-12-03T18:55:01.719505Z",
          "iopub.status.idle": "2022-12-03T18:55:01.724818Z",
          "shell.execute_reply": "2022-12-03T18:55:01.723518Z"
        },
        "papermill": {
          "duration": 0.023678,
          "end_time": "2022-12-03T18:55:01.727341",
          "exception": false,
          "start_time": "2022-12-03T18:55:01.703663",
          "status": "completed"
        },
        "tags": [],
        "colab": {
          "base_uri": "https://localhost:8080/"
        },
        "id": "817e2942",
        "outputId": "04623c24-3925-4d75-f874-9a1b34bfe2db"
      },
      "outputs": [
        {
          "output_type": "stream",
          "name": "stdout",
          "text": [
            "Index(['id', 'Gender', 'Age', 'Driving_License', 'Region_Code',\n",
            "       'Previously_Insured', 'Vehicle_Age', 'Vehicle_Damage', 'Annual_Premium',\n",
            "       'Policy_Sales_Channel', 'Vintage', 'Response'],\n",
            "      dtype='object')\n"
          ]
        }
      ],
      "source": [
        "print(df.columns)"
      ]
    },
    {
      "cell_type": "code",
      "execution_count": 9,
      "id": "d5ba061d",
      "metadata": {
        "execution": {
          "iopub.execute_input": "2022-12-03T18:55:01.760795Z",
          "iopub.status.busy": "2022-12-03T18:55:01.760007Z",
          "iopub.status.idle": "2022-12-03T18:55:01.773008Z",
          "shell.execute_reply": "2022-12-03T18:55:01.771080Z"
        },
        "papermill": {
          "duration": 0.031549,
          "end_time": "2022-12-03T18:55:01.775070",
          "exception": false,
          "start_time": "2022-12-03T18:55:01.743521",
          "status": "completed"
        },
        "tags": [],
        "colab": {
          "base_uri": "https://localhost:8080/"
        },
        "id": "d5ba061d",
        "outputId": "3f3bdb3d-8239-4f40-f584-7cf4964d210e"
      },
      "outputs": [
        {
          "output_type": "stream",
          "name": "stdout",
          "text": [
            "   id  Gender  Age  Driving_License  Region_Code  Previously_Insured  \\\n",
            "0   1    Male   44                1         28.0                   0   \n",
            "1   2    Male   76                1          3.0                   0   \n",
            "2   3    Male   47                1         28.0                   0   \n",
            "3   4    Male   21                1         11.0                   1   \n",
            "4   5  Female   29                1         41.0                   1   \n",
            "\n",
            "  Vehicle_Age Vehicle_Damage  Annual_Premium  Policy_Sales_Channel  Vintage  \\\n",
            "0   > 2 Years            Yes         40454.0                  26.0      217   \n",
            "1    1-2 Year             No         33536.0                  26.0      183   \n",
            "2   > 2 Years            Yes         38294.0                  26.0       27   \n",
            "3    < 1 Year             No         28619.0                 152.0      203   \n",
            "4    < 1 Year             No         27496.0                 152.0       39   \n",
            "\n",
            "   Response  \n",
            "0         1  \n",
            "1         0  \n",
            "2         1  \n",
            "3         0  \n",
            "4         0  \n"
          ]
        }
      ],
      "source": [
        "print(df.head())"
      ]
    },
    {
      "cell_type": "markdown",
      "id": "f046e39e",
      "metadata": {
        "papermill": {
          "duration": 0.015295,
          "end_time": "2022-12-03T18:55:01.805778",
          "exception": false,
          "start_time": "2022-12-03T18:55:01.790483",
          "status": "completed"
        },
        "tags": [],
        "id": "f046e39e"
      },
      "source": [
        "# Data Cleaning"
      ]
    },
    {
      "cell_type": "code",
      "execution_count": 10,
      "id": "9b707729",
      "metadata": {
        "execution": {
          "iopub.execute_input": "2022-12-03T18:55:01.837810Z",
          "iopub.status.busy": "2022-12-03T18:55:01.837016Z",
          "iopub.status.idle": "2022-12-03T18:55:01.978205Z",
          "shell.execute_reply": "2022-12-03T18:55:01.976614Z"
        },
        "papermill": {
          "duration": 0.160615,
          "end_time": "2022-12-03T18:55:01.981326",
          "exception": false,
          "start_time": "2022-12-03T18:55:01.820711",
          "status": "completed"
        },
        "tags": [],
        "colab": {
          "base_uri": "https://localhost:8080/"
        },
        "id": "9b707729",
        "outputId": "796c7660-0f18-45b9-a4e3-04e15ee9396a"
      },
      "outputs": [
        {
          "output_type": "stream",
          "name": "stdout",
          "text": [
            "(381109, 12)\n"
          ]
        }
      ],
      "source": [
        "# Delete duplicate columns\n",
        "# get number of unique values for each column\n",
        "counts = df.nunique()\n",
        "# record columns to delete\n",
        "to_del = [i for i,v in enumerate(counts) if v == 1]\n",
        "# drop useless columns\n",
        "df.drop(to_del, axis=1, inplace=True)\n",
        "print(df.shape)"
      ]
    },
    {
      "cell_type": "code",
      "execution_count": 11,
      "id": "10967f32",
      "metadata": {
        "execution": {
          "iopub.execute_input": "2022-12-03T18:55:02.013404Z",
          "iopub.status.busy": "2022-12-03T18:55:02.013060Z",
          "iopub.status.idle": "2022-12-03T18:55:02.249466Z",
          "shell.execute_reply": "2022-12-03T18:55:02.247692Z"
        },
        "papermill": {
          "duration": 0.255872,
          "end_time": "2022-12-03T18:55:02.252866",
          "exception": false,
          "start_time": "2022-12-03T18:55:01.996994",
          "status": "completed"
        },
        "tags": [],
        "colab": {
          "base_uri": "https://localhost:8080/"
        },
        "id": "10967f32",
        "outputId": "7aec3019-1a02-415e-88ed-c2a32b05655e"
      },
      "outputs": [
        {
          "output_type": "stream",
          "name": "stdout",
          "text": [
            "(381109, 12)\n"
          ]
        }
      ],
      "source": [
        "# Delete duplicate rows\n",
        "df.drop_duplicates(inplace=True)\n",
        "print(df.shape)"
      ]
    },
    {
      "cell_type": "code",
      "execution_count": 12,
      "id": "2ceab40e",
      "metadata": {
        "execution": {
          "iopub.execute_input": "2022-12-03T18:55:02.285396Z",
          "iopub.status.busy": "2022-12-03T18:55:02.285085Z",
          "iopub.status.idle": "2022-12-03T18:55:02.338058Z",
          "shell.execute_reply": "2022-12-03T18:55:02.336953Z"
        },
        "papermill": {
          "duration": 0.071932,
          "end_time": "2022-12-03T18:55:02.340691",
          "exception": false,
          "start_time": "2022-12-03T18:55:02.268759",
          "status": "completed"
        },
        "tags": [],
        "colab": {
          "base_uri": "https://localhost:8080/"
        },
        "id": "2ceab40e",
        "outputId": "98ec01ad-b11f-4f9b-80b9-db1e3ead121f"
      },
      "outputs": [
        {
          "output_type": "execute_result",
          "data": {
            "text/plain": [
              "id                      0.0\n",
              "Gender                  0.0\n",
              "Age                     0.0\n",
              "Driving_License         0.0\n",
              "Region_Code             0.0\n",
              "Previously_Insured      0.0\n",
              "Vehicle_Age             0.0\n",
              "Vehicle_Damage          0.0\n",
              "Annual_Premium          0.0\n",
              "Policy_Sales_Channel    0.0\n",
              "Vintage                 0.0\n",
              "Response                0.0\n",
              "dtype: float64"
            ]
          },
          "metadata": {},
          "execution_count": 12
        }
      ],
      "source": [
        "# Check missing values both to numeric features and categorical features \n",
        "missing = df.isnull().sum()/df.shape[0]*100\n",
        "missing"
      ]
    },
    {
      "cell_type": "code",
      "execution_count": 13,
      "id": "e65a0bf0",
      "metadata": {
        "execution": {
          "iopub.execute_input": "2022-12-03T18:55:02.373069Z",
          "iopub.status.busy": "2022-12-03T18:55:02.372780Z",
          "iopub.status.idle": "2022-12-03T18:55:02.435121Z",
          "shell.execute_reply": "2022-12-03T18:55:02.434130Z"
        },
        "papermill": {
          "duration": 0.081088,
          "end_time": "2022-12-03T18:55:02.437622",
          "exception": false,
          "start_time": "2022-12-03T18:55:02.356534",
          "status": "completed"
        },
        "tags": [],
        "id": "e65a0bf0"
      },
      "outputs": [],
      "source": [
        "# Formatting features\n",
        "df['Driving_License'] = df['Driving_License'].astype('object')\n",
        "df['Region_Code'] = df['Region_Code'].astype('object')\n",
        "df['Previously_Insured'] = df['Previously_Insured'].astype('object')\n",
        "df['Policy_Sales_Channel'] = df['Policy_Sales_Channel'].astype('object')\n",
        "df['Response'] = df['Response'].astype('object')"
      ]
    },
    {
      "cell_type": "markdown",
      "id": "eae134b3",
      "metadata": {
        "papermill": {
          "duration": 0.015183,
          "end_time": "2022-12-03T18:55:02.468561",
          "exception": false,
          "start_time": "2022-12-03T18:55:02.453378",
          "status": "completed"
        },
        "tags": [],
        "id": "eae134b3"
      },
      "source": [
        "# Summary Statistics"
      ]
    },
    {
      "cell_type": "code",
      "execution_count": 14,
      "id": "36b05a74",
      "metadata": {
        "execution": {
          "iopub.execute_input": "2022-12-03T18:55:02.501733Z",
          "iopub.status.busy": "2022-12-03T18:55:02.499944Z",
          "iopub.status.idle": "2022-12-03T18:55:02.845826Z",
          "shell.execute_reply": "2022-12-03T18:55:02.844817Z"
        },
        "papermill": {
          "duration": 0.364084,
          "end_time": "2022-12-03T18:55:02.847971",
          "exception": false,
          "start_time": "2022-12-03T18:55:02.483887",
          "status": "completed"
        },
        "tags": [],
        "colab": {
          "base_uri": "https://localhost:8080/",
          "height": 300
        },
        "id": "36b05a74",
        "outputId": "9b828139-1c27-4783-9960-932dc12d01eb"
      },
      "outputs": [
        {
          "output_type": "execute_result",
          "data": {
            "text/plain": [
              "                         count unique       top      freq\n",
              "Gender                  381109      2      Male    206089\n",
              "Driving_License         381109      2         1    380297\n",
              "Region_Code           381109.0   53.0      28.0  106415.0\n",
              "Previously_Insured      381109      2         0    206481\n",
              "Vehicle_Age             381109      3  1-2 Year    200316\n",
              "Vehicle_Damage          381109      2       Yes    192413\n",
              "Policy_Sales_Channel  381109.0  155.0     152.0  134784.0\n",
              "Response                381109      2         0    334399"
            ],
            "text/html": [
              "\n",
              "  <div id=\"df-606a0963-97c3-4e7c-a27a-23b35db2e73b\">\n",
              "    <div class=\"colab-df-container\">\n",
              "      <div>\n",
              "<style scoped>\n",
              "    .dataframe tbody tr th:only-of-type {\n",
              "        vertical-align: middle;\n",
              "    }\n",
              "\n",
              "    .dataframe tbody tr th {\n",
              "        vertical-align: top;\n",
              "    }\n",
              "\n",
              "    .dataframe thead th {\n",
              "        text-align: right;\n",
              "    }\n",
              "</style>\n",
              "<table border=\"1\" class=\"dataframe\">\n",
              "  <thead>\n",
              "    <tr style=\"text-align: right;\">\n",
              "      <th></th>\n",
              "      <th>count</th>\n",
              "      <th>unique</th>\n",
              "      <th>top</th>\n",
              "      <th>freq</th>\n",
              "    </tr>\n",
              "  </thead>\n",
              "  <tbody>\n",
              "    <tr>\n",
              "      <th>Gender</th>\n",
              "      <td>381109</td>\n",
              "      <td>2</td>\n",
              "      <td>Male</td>\n",
              "      <td>206089</td>\n",
              "    </tr>\n",
              "    <tr>\n",
              "      <th>Driving_License</th>\n",
              "      <td>381109</td>\n",
              "      <td>2</td>\n",
              "      <td>1</td>\n",
              "      <td>380297</td>\n",
              "    </tr>\n",
              "    <tr>\n",
              "      <th>Region_Code</th>\n",
              "      <td>381109.0</td>\n",
              "      <td>53.0</td>\n",
              "      <td>28.0</td>\n",
              "      <td>106415.0</td>\n",
              "    </tr>\n",
              "    <tr>\n",
              "      <th>Previously_Insured</th>\n",
              "      <td>381109</td>\n",
              "      <td>2</td>\n",
              "      <td>0</td>\n",
              "      <td>206481</td>\n",
              "    </tr>\n",
              "    <tr>\n",
              "      <th>Vehicle_Age</th>\n",
              "      <td>381109</td>\n",
              "      <td>3</td>\n",
              "      <td>1-2 Year</td>\n",
              "      <td>200316</td>\n",
              "    </tr>\n",
              "    <tr>\n",
              "      <th>Vehicle_Damage</th>\n",
              "      <td>381109</td>\n",
              "      <td>2</td>\n",
              "      <td>Yes</td>\n",
              "      <td>192413</td>\n",
              "    </tr>\n",
              "    <tr>\n",
              "      <th>Policy_Sales_Channel</th>\n",
              "      <td>381109.0</td>\n",
              "      <td>155.0</td>\n",
              "      <td>152.0</td>\n",
              "      <td>134784.0</td>\n",
              "    </tr>\n",
              "    <tr>\n",
              "      <th>Response</th>\n",
              "      <td>381109</td>\n",
              "      <td>2</td>\n",
              "      <td>0</td>\n",
              "      <td>334399</td>\n",
              "    </tr>\n",
              "  </tbody>\n",
              "</table>\n",
              "</div>\n",
              "      <button class=\"colab-df-convert\" onclick=\"convertToInteractive('df-606a0963-97c3-4e7c-a27a-23b35db2e73b')\"\n",
              "              title=\"Convert this dataframe to an interactive table.\"\n",
              "              style=\"display:none;\">\n",
              "        \n",
              "  <svg xmlns=\"http://www.w3.org/2000/svg\" height=\"24px\"viewBox=\"0 0 24 24\"\n",
              "       width=\"24px\">\n",
              "    <path d=\"M0 0h24v24H0V0z\" fill=\"none\"/>\n",
              "    <path d=\"M18.56 5.44l.94 2.06.94-2.06 2.06-.94-2.06-.94-.94-2.06-.94 2.06-2.06.94zm-11 1L8.5 8.5l.94-2.06 2.06-.94-2.06-.94L8.5 2.5l-.94 2.06-2.06.94zm10 10l.94 2.06.94-2.06 2.06-.94-2.06-.94-.94-2.06-.94 2.06-2.06.94z\"/><path d=\"M17.41 7.96l-1.37-1.37c-.4-.4-.92-.59-1.43-.59-.52 0-1.04.2-1.43.59L10.3 9.45l-7.72 7.72c-.78.78-.78 2.05 0 2.83L4 21.41c.39.39.9.59 1.41.59.51 0 1.02-.2 1.41-.59l7.78-7.78 2.81-2.81c.8-.78.8-2.07 0-2.86zM5.41 20L4 18.59l7.72-7.72 1.47 1.35L5.41 20z\"/>\n",
              "  </svg>\n",
              "      </button>\n",
              "      \n",
              "  <style>\n",
              "    .colab-df-container {\n",
              "      display:flex;\n",
              "      flex-wrap:wrap;\n",
              "      gap: 12px;\n",
              "    }\n",
              "\n",
              "    .colab-df-convert {\n",
              "      background-color: #E8F0FE;\n",
              "      border: none;\n",
              "      border-radius: 50%;\n",
              "      cursor: pointer;\n",
              "      display: none;\n",
              "      fill: #1967D2;\n",
              "      height: 32px;\n",
              "      padding: 0 0 0 0;\n",
              "      width: 32px;\n",
              "    }\n",
              "\n",
              "    .colab-df-convert:hover {\n",
              "      background-color: #E2EBFA;\n",
              "      box-shadow: 0px 1px 2px rgba(60, 64, 67, 0.3), 0px 1px 3px 1px rgba(60, 64, 67, 0.15);\n",
              "      fill: #174EA6;\n",
              "    }\n",
              "\n",
              "    [theme=dark] .colab-df-convert {\n",
              "      background-color: #3B4455;\n",
              "      fill: #D2E3FC;\n",
              "    }\n",
              "\n",
              "    [theme=dark] .colab-df-convert:hover {\n",
              "      background-color: #434B5C;\n",
              "      box-shadow: 0px 1px 3px 1px rgba(0, 0, 0, 0.15);\n",
              "      filter: drop-shadow(0px 1px 2px rgba(0, 0, 0, 0.3));\n",
              "      fill: #FFFFFF;\n",
              "    }\n",
              "  </style>\n",
              "\n",
              "      <script>\n",
              "        const buttonEl =\n",
              "          document.querySelector('#df-606a0963-97c3-4e7c-a27a-23b35db2e73b button.colab-df-convert');\n",
              "        buttonEl.style.display =\n",
              "          google.colab.kernel.accessAllowed ? 'block' : 'none';\n",
              "\n",
              "        async function convertToInteractive(key) {\n",
              "          const element = document.querySelector('#df-606a0963-97c3-4e7c-a27a-23b35db2e73b');\n",
              "          const dataTable =\n",
              "            await google.colab.kernel.invokeFunction('convertToInteractive',\n",
              "                                                     [key], {});\n",
              "          if (!dataTable) return;\n",
              "\n",
              "          const docLinkHtml = 'Like what you see? Visit the ' +\n",
              "            '<a target=\"_blank\" href=https://colab.research.google.com/notebooks/data_table.ipynb>data table notebook</a>'\n",
              "            + ' to learn more about interactive tables.';\n",
              "          element.innerHTML = '';\n",
              "          dataTable['output_type'] = 'display_data';\n",
              "          await google.colab.output.renderOutput(dataTable, element);\n",
              "          const docLink = document.createElement('div');\n",
              "          docLink.innerHTML = docLinkHtml;\n",
              "          element.appendChild(docLink);\n",
              "        }\n",
              "      </script>\n",
              "    </div>\n",
              "  </div>\n",
              "  "
            ]
          },
          "metadata": {},
          "execution_count": 14
        }
      ],
      "source": [
        "# Summarize attribute distributions for data type of variables\n",
        "obj_cols = [var for var in df.columns if df[var].dtype=='object']\n",
        "df[obj_cols].describe().T"
      ]
    },
    {
      "cell_type": "code",
      "execution_count": 15,
      "id": "6a411a85",
      "metadata": {
        "execution": {
          "iopub.execute_input": "2022-12-03T18:55:02.881711Z",
          "iopub.status.busy": "2022-12-03T18:55:02.880807Z",
          "iopub.status.idle": "2022-12-03T18:55:02.950847Z",
          "shell.execute_reply": "2022-12-03T18:55:02.949832Z"
        },
        "papermill": {
          "duration": 0.088898,
          "end_time": "2022-12-03T18:55:02.953290",
          "exception": false,
          "start_time": "2022-12-03T18:55:02.864392",
          "status": "completed"
        },
        "tags": [],
        "colab": {
          "base_uri": "https://localhost:8080/",
          "height": 175
        },
        "id": "6a411a85",
        "outputId": "a1c8ae85-f149-4f52-fdb6-b003a6426952"
      },
      "outputs": [
        {
          "output_type": "execute_result",
          "data": {
            "text/plain": [
              "                   count           mean            std     min      25%  \\\n",
              "id              381109.0  190555.000000  110016.836208     1.0  95278.0   \n",
              "Age             381109.0      38.822584      15.511611    20.0     25.0   \n",
              "Annual_Premium  381109.0   30564.389581   17213.155057  2630.0  24405.0   \n",
              "Vintage         381109.0     154.347397      83.671304    10.0     82.0   \n",
              "\n",
              "                     50%       75%       max  \n",
              "id              190555.0  285832.0  381109.0  \n",
              "Age                 36.0      49.0      85.0  \n",
              "Annual_Premium   31669.0   39400.0  540165.0  \n",
              "Vintage            154.0     227.0     299.0  "
            ],
            "text/html": [
              "\n",
              "  <div id=\"df-039b82c2-69c3-484d-a2e3-b252f3275c7d\">\n",
              "    <div class=\"colab-df-container\">\n",
              "      <div>\n",
              "<style scoped>\n",
              "    .dataframe tbody tr th:only-of-type {\n",
              "        vertical-align: middle;\n",
              "    }\n",
              "\n",
              "    .dataframe tbody tr th {\n",
              "        vertical-align: top;\n",
              "    }\n",
              "\n",
              "    .dataframe thead th {\n",
              "        text-align: right;\n",
              "    }\n",
              "</style>\n",
              "<table border=\"1\" class=\"dataframe\">\n",
              "  <thead>\n",
              "    <tr style=\"text-align: right;\">\n",
              "      <th></th>\n",
              "      <th>count</th>\n",
              "      <th>mean</th>\n",
              "      <th>std</th>\n",
              "      <th>min</th>\n",
              "      <th>25%</th>\n",
              "      <th>50%</th>\n",
              "      <th>75%</th>\n",
              "      <th>max</th>\n",
              "    </tr>\n",
              "  </thead>\n",
              "  <tbody>\n",
              "    <tr>\n",
              "      <th>id</th>\n",
              "      <td>381109.0</td>\n",
              "      <td>190555.000000</td>\n",
              "      <td>110016.836208</td>\n",
              "      <td>1.0</td>\n",
              "      <td>95278.0</td>\n",
              "      <td>190555.0</td>\n",
              "      <td>285832.0</td>\n",
              "      <td>381109.0</td>\n",
              "    </tr>\n",
              "    <tr>\n",
              "      <th>Age</th>\n",
              "      <td>381109.0</td>\n",
              "      <td>38.822584</td>\n",
              "      <td>15.511611</td>\n",
              "      <td>20.0</td>\n",
              "      <td>25.0</td>\n",
              "      <td>36.0</td>\n",
              "      <td>49.0</td>\n",
              "      <td>85.0</td>\n",
              "    </tr>\n",
              "    <tr>\n",
              "      <th>Annual_Premium</th>\n",
              "      <td>381109.0</td>\n",
              "      <td>30564.389581</td>\n",
              "      <td>17213.155057</td>\n",
              "      <td>2630.0</td>\n",
              "      <td>24405.0</td>\n",
              "      <td>31669.0</td>\n",
              "      <td>39400.0</td>\n",
              "      <td>540165.0</td>\n",
              "    </tr>\n",
              "    <tr>\n",
              "      <th>Vintage</th>\n",
              "      <td>381109.0</td>\n",
              "      <td>154.347397</td>\n",
              "      <td>83.671304</td>\n",
              "      <td>10.0</td>\n",
              "      <td>82.0</td>\n",
              "      <td>154.0</td>\n",
              "      <td>227.0</td>\n",
              "      <td>299.0</td>\n",
              "    </tr>\n",
              "  </tbody>\n",
              "</table>\n",
              "</div>\n",
              "      <button class=\"colab-df-convert\" onclick=\"convertToInteractive('df-039b82c2-69c3-484d-a2e3-b252f3275c7d')\"\n",
              "              title=\"Convert this dataframe to an interactive table.\"\n",
              "              style=\"display:none;\">\n",
              "        \n",
              "  <svg xmlns=\"http://www.w3.org/2000/svg\" height=\"24px\"viewBox=\"0 0 24 24\"\n",
              "       width=\"24px\">\n",
              "    <path d=\"M0 0h24v24H0V0z\" fill=\"none\"/>\n",
              "    <path d=\"M18.56 5.44l.94 2.06.94-2.06 2.06-.94-2.06-.94-.94-2.06-.94 2.06-2.06.94zm-11 1L8.5 8.5l.94-2.06 2.06-.94-2.06-.94L8.5 2.5l-.94 2.06-2.06.94zm10 10l.94 2.06.94-2.06 2.06-.94-2.06-.94-.94-2.06-.94 2.06-2.06.94z\"/><path d=\"M17.41 7.96l-1.37-1.37c-.4-.4-.92-.59-1.43-.59-.52 0-1.04.2-1.43.59L10.3 9.45l-7.72 7.72c-.78.78-.78 2.05 0 2.83L4 21.41c.39.39.9.59 1.41.59.51 0 1.02-.2 1.41-.59l7.78-7.78 2.81-2.81c.8-.78.8-2.07 0-2.86zM5.41 20L4 18.59l7.72-7.72 1.47 1.35L5.41 20z\"/>\n",
              "  </svg>\n",
              "      </button>\n",
              "      \n",
              "  <style>\n",
              "    .colab-df-container {\n",
              "      display:flex;\n",
              "      flex-wrap:wrap;\n",
              "      gap: 12px;\n",
              "    }\n",
              "\n",
              "    .colab-df-convert {\n",
              "      background-color: #E8F0FE;\n",
              "      border: none;\n",
              "      border-radius: 50%;\n",
              "      cursor: pointer;\n",
              "      display: none;\n",
              "      fill: #1967D2;\n",
              "      height: 32px;\n",
              "      padding: 0 0 0 0;\n",
              "      width: 32px;\n",
              "    }\n",
              "\n",
              "    .colab-df-convert:hover {\n",
              "      background-color: #E2EBFA;\n",
              "      box-shadow: 0px 1px 2px rgba(60, 64, 67, 0.3), 0px 1px 3px 1px rgba(60, 64, 67, 0.15);\n",
              "      fill: #174EA6;\n",
              "    }\n",
              "\n",
              "    [theme=dark] .colab-df-convert {\n",
              "      background-color: #3B4455;\n",
              "      fill: #D2E3FC;\n",
              "    }\n",
              "\n",
              "    [theme=dark] .colab-df-convert:hover {\n",
              "      background-color: #434B5C;\n",
              "      box-shadow: 0px 1px 3px 1px rgba(0, 0, 0, 0.15);\n",
              "      filter: drop-shadow(0px 1px 2px rgba(0, 0, 0, 0.3));\n",
              "      fill: #FFFFFF;\n",
              "    }\n",
              "  </style>\n",
              "\n",
              "      <script>\n",
              "        const buttonEl =\n",
              "          document.querySelector('#df-039b82c2-69c3-484d-a2e3-b252f3275c7d button.colab-df-convert');\n",
              "        buttonEl.style.display =\n",
              "          google.colab.kernel.accessAllowed ? 'block' : 'none';\n",
              "\n",
              "        async function convertToInteractive(key) {\n",
              "          const element = document.querySelector('#df-039b82c2-69c3-484d-a2e3-b252f3275c7d');\n",
              "          const dataTable =\n",
              "            await google.colab.kernel.invokeFunction('convertToInteractive',\n",
              "                                                     [key], {});\n",
              "          if (!dataTable) return;\n",
              "\n",
              "          const docLinkHtml = 'Like what you see? Visit the ' +\n",
              "            '<a target=\"_blank\" href=https://colab.research.google.com/notebooks/data_table.ipynb>data table notebook</a>'\n",
              "            + ' to learn more about interactive tables.';\n",
              "          element.innerHTML = '';\n",
              "          dataTable['output_type'] = 'display_data';\n",
              "          await google.colab.output.renderOutput(dataTable, element);\n",
              "          const docLink = document.createElement('div');\n",
              "          docLink.innerHTML = docLinkHtml;\n",
              "          element.appendChild(docLink);\n",
              "        }\n",
              "      </script>\n",
              "    </div>\n",
              "  </div>\n",
              "  "
            ]
          },
          "metadata": {},
          "execution_count": 15
        }
      ],
      "source": [
        "# Summarize attribute distributions for data type of variables\n",
        "num_cols = [var for var in df.columns if df[var].dtype!='object']\n",
        "df[num_cols].describe().T"
      ]
    },
    {
      "cell_type": "code",
      "execution_count": 16,
      "id": "95e54eb2",
      "metadata": {
        "execution": {
          "iopub.execute_input": "2022-12-03T18:55:02.988777Z",
          "iopub.status.busy": "2022-12-03T18:55:02.988482Z",
          "iopub.status.idle": "2022-12-03T18:55:03.038034Z",
          "shell.execute_reply": "2022-12-03T18:55:03.036976Z"
        },
        "papermill": {
          "duration": 0.070305,
          "end_time": "2022-12-03T18:55:03.040463",
          "exception": false,
          "start_time": "2022-12-03T18:55:02.970158",
          "status": "completed"
        },
        "tags": [],
        "id": "95e54eb2"
      },
      "outputs": [],
      "source": [
        "# Split data set between target variable and features\n",
        "X_full = df.copy()\n",
        "y = X_full.Response\n",
        "X_full.drop(['Response'], axis=1, inplace=True)"
      ]
    },
    {
      "cell_type": "markdown",
      "id": "435dec21",
      "metadata": {
        "papermill": {
          "duration": 0.01642,
          "end_time": "2022-12-03T18:55:03.073815",
          "exception": false,
          "start_time": "2022-12-03T18:55:03.057395",
          "status": "completed"
        },
        "tags": [],
        "id": "435dec21"
      },
      "source": [
        "# Target Variable Analysis"
      ]
    },
    {
      "cell_type": "code",
      "execution_count": 17,
      "id": "a1ac5b9c",
      "metadata": {
        "execution": {
          "iopub.execute_input": "2022-12-03T18:55:03.106862Z",
          "iopub.status.busy": "2022-12-03T18:55:03.106554Z",
          "iopub.status.idle": "2022-12-03T18:55:03.351816Z",
          "shell.execute_reply": "2022-12-03T18:55:03.350627Z"
        },
        "papermill": {
          "duration": 0.264451,
          "end_time": "2022-12-03T18:55:03.354191",
          "exception": false,
          "start_time": "2022-12-03T18:55:03.089740",
          "status": "completed"
        },
        "tags": [],
        "colab": {
          "base_uri": "https://localhost:8080/",
          "height": 143
        },
        "id": "a1ac5b9c",
        "outputId": "42b26a38-0544-452f-dd9f-f3920ae6a7b6"
      },
      "outputs": [
        {
          "output_type": "execute_result",
          "data": {
            "text/plain": [
              "col_0      count  frequency\n",
              "Response                   \n",
              "0         334399   0.877437\n",
              "1          46710   0.122563"
            ],
            "text/html": [
              "\n",
              "  <div id=\"df-3086a082-160a-49ec-b919-f4f4e19c2cd2\">\n",
              "    <div class=\"colab-df-container\">\n",
              "      <div>\n",
              "<style scoped>\n",
              "    .dataframe tbody tr th:only-of-type {\n",
              "        vertical-align: middle;\n",
              "    }\n",
              "\n",
              "    .dataframe tbody tr th {\n",
              "        vertical-align: top;\n",
              "    }\n",
              "\n",
              "    .dataframe thead th {\n",
              "        text-align: right;\n",
              "    }\n",
              "</style>\n",
              "<table border=\"1\" class=\"dataframe\">\n",
              "  <thead>\n",
              "    <tr style=\"text-align: right;\">\n",
              "      <th>col_0</th>\n",
              "      <th>count</th>\n",
              "      <th>frequency</th>\n",
              "    </tr>\n",
              "    <tr>\n",
              "      <th>Response</th>\n",
              "      <th></th>\n",
              "      <th></th>\n",
              "    </tr>\n",
              "  </thead>\n",
              "  <tbody>\n",
              "    <tr>\n",
              "      <th>0</th>\n",
              "      <td>334399</td>\n",
              "      <td>0.877437</td>\n",
              "    </tr>\n",
              "    <tr>\n",
              "      <th>1</th>\n",
              "      <td>46710</td>\n",
              "      <td>0.122563</td>\n",
              "    </tr>\n",
              "  </tbody>\n",
              "</table>\n",
              "</div>\n",
              "      <button class=\"colab-df-convert\" onclick=\"convertToInteractive('df-3086a082-160a-49ec-b919-f4f4e19c2cd2')\"\n",
              "              title=\"Convert this dataframe to an interactive table.\"\n",
              "              style=\"display:none;\">\n",
              "        \n",
              "  <svg xmlns=\"http://www.w3.org/2000/svg\" height=\"24px\"viewBox=\"0 0 24 24\"\n",
              "       width=\"24px\">\n",
              "    <path d=\"M0 0h24v24H0V0z\" fill=\"none\"/>\n",
              "    <path d=\"M18.56 5.44l.94 2.06.94-2.06 2.06-.94-2.06-.94-.94-2.06-.94 2.06-2.06.94zm-11 1L8.5 8.5l.94-2.06 2.06-.94-2.06-.94L8.5 2.5l-.94 2.06-2.06.94zm10 10l.94 2.06.94-2.06 2.06-.94-2.06-.94-.94-2.06-.94 2.06-2.06.94z\"/><path d=\"M17.41 7.96l-1.37-1.37c-.4-.4-.92-.59-1.43-.59-.52 0-1.04.2-1.43.59L10.3 9.45l-7.72 7.72c-.78.78-.78 2.05 0 2.83L4 21.41c.39.39.9.59 1.41.59.51 0 1.02-.2 1.41-.59l7.78-7.78 2.81-2.81c.8-.78.8-2.07 0-2.86zM5.41 20L4 18.59l7.72-7.72 1.47 1.35L5.41 20z\"/>\n",
              "  </svg>\n",
              "      </button>\n",
              "      \n",
              "  <style>\n",
              "    .colab-df-container {\n",
              "      display:flex;\n",
              "      flex-wrap:wrap;\n",
              "      gap: 12px;\n",
              "    }\n",
              "\n",
              "    .colab-df-convert {\n",
              "      background-color: #E8F0FE;\n",
              "      border: none;\n",
              "      border-radius: 50%;\n",
              "      cursor: pointer;\n",
              "      display: none;\n",
              "      fill: #1967D2;\n",
              "      height: 32px;\n",
              "      padding: 0 0 0 0;\n",
              "      width: 32px;\n",
              "    }\n",
              "\n",
              "    .colab-df-convert:hover {\n",
              "      background-color: #E2EBFA;\n",
              "      box-shadow: 0px 1px 2px rgba(60, 64, 67, 0.3), 0px 1px 3px 1px rgba(60, 64, 67, 0.15);\n",
              "      fill: #174EA6;\n",
              "    }\n",
              "\n",
              "    [theme=dark] .colab-df-convert {\n",
              "      background-color: #3B4455;\n",
              "      fill: #D2E3FC;\n",
              "    }\n",
              "\n",
              "    [theme=dark] .colab-df-convert:hover {\n",
              "      background-color: #434B5C;\n",
              "      box-shadow: 0px 1px 3px 1px rgba(0, 0, 0, 0.15);\n",
              "      filter: drop-shadow(0px 1px 2px rgba(0, 0, 0, 0.3));\n",
              "      fill: #FFFFFF;\n",
              "    }\n",
              "  </style>\n",
              "\n",
              "      <script>\n",
              "        const buttonEl =\n",
              "          document.querySelector('#df-3086a082-160a-49ec-b919-f4f4e19c2cd2 button.colab-df-convert');\n",
              "        buttonEl.style.display =\n",
              "          google.colab.kernel.accessAllowed ? 'block' : 'none';\n",
              "\n",
              "        async function convertToInteractive(key) {\n",
              "          const element = document.querySelector('#df-3086a082-160a-49ec-b919-f4f4e19c2cd2');\n",
              "          const dataTable =\n",
              "            await google.colab.kernel.invokeFunction('convertToInteractive',\n",
              "                                                     [key], {});\n",
              "          if (!dataTable) return;\n",
              "\n",
              "          const docLinkHtml = 'Like what you see? Visit the ' +\n",
              "            '<a target=\"_blank\" href=https://colab.research.google.com/notebooks/data_table.ipynb>data table notebook</a>'\n",
              "            + ' to learn more about interactive tables.';\n",
              "          element.innerHTML = '';\n",
              "          dataTable['output_type'] = 'display_data';\n",
              "          await google.colab.output.renderOutput(dataTable, element);\n",
              "          const docLink = document.createElement('div');\n",
              "          docLink.innerHTML = docLinkHtml;\n",
              "          element.appendChild(docLink);\n",
              "        }\n",
              "      </script>\n",
              "    </div>\n",
              "  </div>\n",
              "  "
            ]
          },
          "metadata": {},
          "execution_count": 17
        }
      ],
      "source": [
        "# Summarize the class distribution \n",
        "count = pd.crosstab(index = y, columns=\"count\")\n",
        "percentage = pd.crosstab(index = y, columns=\"frequency\")/pd.crosstab(index = y, columns=\"frequency\").sum()\n",
        "pd.concat([count, percentage], axis=1)"
      ]
    },
    {
      "cell_type": "code",
      "execution_count": 18,
      "id": "64368460",
      "metadata": {
        "execution": {
          "iopub.execute_input": "2022-12-03T18:55:03.390563Z",
          "iopub.status.busy": "2022-12-03T18:55:03.389670Z",
          "iopub.status.idle": "2022-12-03T18:55:03.396780Z",
          "shell.execute_reply": "2022-12-03T18:55:03.395885Z"
        },
        "papermill": {
          "duration": 0.027741,
          "end_time": "2022-12-03T18:55:03.399018",
          "exception": false,
          "start_time": "2022-12-03T18:55:03.371277",
          "status": "completed"
        },
        "tags": [],
        "id": "64368460"
      },
      "outputs": [],
      "source": [
        "def piechart(data, col1, col2):\n",
        "    # Plot the target variable \n",
        "    plt.rcParams['figure.figsize']=(15,5)\n",
        "    plt.subplot(1,2,1)\n",
        "    data.groupby(col1).count()[col2].plot(kind='pie',autopct='%.0f%%').set_title(\"Pie {} Variable Distribution\".format(col1))\n",
        "    plt.subplot(1,2,2)\n",
        "    sns.countplot(x=data[col1], data=data).set_title(\"Barplot {} Variable Distribution\".format(col1))\n",
        "    plt.show()"
      ]
    },
    {
      "cell_type": "code",
      "execution_count": 19,
      "id": "d22673f0",
      "metadata": {
        "execution": {
          "iopub.execute_input": "2022-12-03T18:55:03.432389Z",
          "iopub.status.busy": "2022-12-03T18:55:03.431511Z",
          "iopub.status.idle": "2022-12-03T18:55:04.534234Z",
          "shell.execute_reply": "2022-12-03T18:55:04.533347Z"
        },
        "papermill": {
          "duration": 1.121398,
          "end_time": "2022-12-03T18:55:04.536391",
          "exception": false,
          "start_time": "2022-12-03T18:55:03.414993",
          "status": "completed"
        },
        "tags": [],
        "colab": {
          "base_uri": "https://localhost:8080/",
          "height": 354
        },
        "id": "d22673f0",
        "outputId": "d5f1ec25-e724-4816-93c6-2d5d0d85a96f"
      },
      "outputs": [
        {
          "output_type": "display_data",
          "data": {
            "text/plain": [
              "<Figure size 1080x360 with 2 Axes>"
            ],
            "image/png": "[encoded data removed]"
          },
          "metadata": {
            "needs_background": "light"
          }
        }
      ],
      "source": [
        "col1 = 'Response'\n",
        "col2 = 'id'\n",
        "piechart(df, col1, col2)"
      ]
    },
    {
      "cell_type": "markdown",
      "id": "8e502f8c",
      "metadata": {
        "papermill": {
          "duration": 0.016075,
          "end_time": "2022-12-03T18:55:04.568901",
          "exception": false,
          "start_time": "2022-12-03T18:55:04.552826",
          "status": "completed"
        },
        "tags": [],
        "id": "8e502f8c"
      },
      "source": [
        "# Numerical Features Analysis"
      ]
    },
    {
      "cell_type": "markdown",
      "id": "330b7533",
      "metadata": {
        "papermill": {
          "duration": 0.015639,
          "end_time": "2022-12-03T18:55:04.600787",
          "exception": false,
          "start_time": "2022-12-03T18:55:04.585148",
          "status": "completed"
        },
        "tags": [],
        "id": "330b7533"
      },
      "source": [
        "### Analysis for numerical features (univariate analysis, bivariate analysis)"
      ]
    },
    {
      "cell_type": "code",
      "execution_count": 20,
      "id": "0b4e1c69",
      "metadata": {
        "execution": {
          "iopub.execute_input": "2022-12-03T18:55:04.635243Z",
          "iopub.status.busy": "2022-12-03T18:55:04.633746Z",
          "iopub.status.idle": "2022-12-03T18:55:04.673305Z",
          "shell.execute_reply": "2022-12-03T18:55:04.672388Z"
        },
        "papermill": {
          "duration": 0.058607,
          "end_time": "2022-12-03T18:55:04.675374",
          "exception": false,
          "start_time": "2022-12-03T18:55:04.616767",
          "status": "completed"
        },
        "tags": [],
        "id": "0b4e1c69"
      },
      "outputs": [],
      "source": [
        "# Select numerical columns\n",
        "X_full.drop(['id'], axis=1, inplace=True)\n",
        "numerical_cols = [var for var in X_full.columns if X_full[var].dtype in ['float64','int64']]"
      ]
    },
    {
      "cell_type": "code",
      "execution_count": 21,
      "id": "a2c2a84e",
      "metadata": {
        "execution": {
          "iopub.execute_input": "2022-12-03T18:55:04.709367Z",
          "iopub.status.busy": "2022-12-03T18:55:04.709059Z",
          "iopub.status.idle": "2022-12-03T18:55:04.718279Z",
          "shell.execute_reply": "2022-12-03T18:55:04.717403Z"
        },
        "papermill": {
          "duration": 0.028897,
          "end_time": "2022-12-03T18:55:04.720228",
          "exception": false,
          "start_time": "2022-12-03T18:55:04.691331",
          "status": "completed"
        },
        "tags": [],
        "colab": {
          "base_uri": "https://localhost:8080/"
        },
        "id": "a2c2a84e",
        "outputId": "b3c1e070-ad24-476c-b711-7db574cb7c64"
      },
      "outputs": [
        {
          "output_type": "execute_result",
          "data": {
            "text/plain": [
              "Index(['Age', 'Annual_Premium', 'Vintage'], dtype='object')"
            ]
          },
          "metadata": {},
          "execution_count": 21
        }
      ],
      "source": [
        "# Subset with numerical features\n",
        "num = X_full[numerical_cols]\n",
        "num.columns"
      ]
    },
    {
      "cell_type": "markdown",
      "id": "73714bbd",
      "metadata": {
        "papermill": {
          "duration": 0.016094,
          "end_time": "2022-12-03T18:55:04.752730",
          "exception": false,
          "start_time": "2022-12-03T18:55:04.736636",
          "status": "completed"
        },
        "tags": [],
        "id": "73714bbd"
      },
      "source": [
        "### Visualization"
      ]
    },
    {
      "cell_type": "code",
      "execution_count": 22,
      "id": "4a339466",
      "metadata": {
        "execution": {
          "iopub.execute_input": "2022-12-03T18:55:04.786898Z",
          "iopub.status.busy": "2022-12-03T18:55:04.785977Z",
          "iopub.status.idle": "2022-12-03T18:55:04.793629Z",
          "shell.execute_reply": "2022-12-03T18:55:04.792796Z"
        },
        "papermill": {
          "duration": 0.026881,
          "end_time": "2022-12-03T18:55:04.795539",
          "exception": false,
          "start_time": "2022-12-03T18:55:04.768658",
          "status": "completed"
        },
        "tags": [],
        "id": "4a339466"
      },
      "outputs": [],
      "source": [
        "def plot_num(data, var):\n",
        "    plt.rcParams['figure.figsize']=(15,5)\n",
        "    plt.subplot(1,3,1)\n",
        "    x=data[var]\n",
        "    plt.hist(x,color='green',edgecolor='black')\n",
        "    plt.title('{} histogram'.format(var))\n",
        "    plt.xticks(rotation=45)\n",
        "    \n",
        "    \n",
        "    plt.subplot(1,3,2)\n",
        "    x=data[var]\n",
        "    sns.boxplot(x, color=\"orange\")\n",
        "    plt.title('{} boxplot'.format(var))\n",
        "    plt.xticks(rotation=45)\n",
        "    \n",
        "    \n",
        "    plt.subplot(1,3,3)\n",
        "    res = stats.probplot(data[var], plot=plt)\n",
        "    plt.title('{} Q-Q plot'.format(var))\n",
        "    plt.xticks(rotation=45)\n",
        "    \n",
        "    \n",
        "    plt.show()"
      ]
    },
    {
      "cell_type": "code",
      "execution_count": 23,
      "id": "06d56f9d",
      "metadata": {
        "execution": {
          "iopub.execute_input": "2022-12-03T18:55:04.830126Z",
          "iopub.status.busy": "2022-12-03T18:55:04.829374Z",
          "iopub.status.idle": "2022-12-03T18:55:05.914761Z",
          "shell.execute_reply": "2022-12-03T18:55:05.913833Z"
        },
        "papermill": {
          "duration": 1.105701,
          "end_time": "2022-12-03T18:55:05.917169",
          "exception": false,
          "start_time": "2022-12-03T18:55:04.811468",
          "status": "completed"
        },
        "tags": [],
        "colab": {
          "base_uri": "https://localhost:8080/",
          "height": 361
        },
        "id": "06d56f9d",
        "outputId": "68dcc6d5-6503-4b3d-98ad-09b5d8428363"
      },
      "outputs": [
        {
          "output_type": "display_data",
          "data": {
            "text/plain": [
              "<Figure size 1080x360 with 3 Axes>"
            ],
            "image/png": "[encoded data removed]"
          },
          "metadata": {
            "needs_background": "light"
          }
        }
      ],
      "source": [
        "plot_num(num, var='Age')"
      ]
    },
    {
      "cell_type": "code",
      "execution_count": 24,
      "id": "972ad054",
      "metadata": {
        "execution": {
          "iopub.execute_input": "2022-12-03T18:55:05.955470Z",
          "iopub.status.busy": "2022-12-03T18:55:05.955179Z",
          "iopub.status.idle": "2022-12-03T18:55:07.069219Z",
          "shell.execute_reply": "2022-12-03T18:55:07.068262Z"
        },
        "papermill": {
          "duration": 1.134837,
          "end_time": "2022-12-03T18:55:07.071578",
          "exception": false,
          "start_time": "2022-12-03T18:55:05.936741",
          "status": "completed"
        },
        "tags": [],
        "colab": {
          "base_uri": "https://localhost:8080/",
          "height": 377
        },
        "id": "972ad054",
        "outputId": "0d3b5676-efe8-4dfc-fffb-754c58baac15"
      },
      "outputs": [
        {
          "output_type": "display_data",
          "data": {
            "text/plain": [
              "<Figure size 1080x360 with 3 Axes>"
            ],
            "image/png": "[encoded data removed]"
          },
          "metadata": {
            "needs_background": "light"
          }
        }
      ],
      "source": [
        "plot_num(num, var='Annual_Premium')"
      ]
    },
    {
      "cell_type": "code",
      "execution_count": 25,
      "id": "4b828282",
      "metadata": {
        "execution": {
          "iopub.execute_input": "2022-12-03T18:55:07.108479Z",
          "iopub.status.busy": "2022-12-03T18:55:07.107653Z",
          "iopub.status.idle": "2022-12-03T18:55:08.201758Z",
          "shell.execute_reply": "2022-12-03T18:55:08.200815Z"
        },
        "papermill": {
          "duration": 1.114413,
          "end_time": "2022-12-03T18:55:08.203953",
          "exception": false,
          "start_time": "2022-12-03T18:55:07.089540",
          "status": "completed"
        },
        "tags": [],
        "colab": {
          "base_uri": "https://localhost:8080/",
          "height": 364
        },
        "id": "4b828282",
        "outputId": "d9479273-bb08-452b-af66-f029874f208c"
      },
      "outputs": [
        {
          "output_type": "display_data",
          "data": {
            "text/plain": [
              "<Figure size 1080x360 with 3 Axes>"
            ],
            "image/png": "[encoded data removed]"
          },
          "metadata": {
            "needs_background": "light"
          }
        }
      ],
      "source": [
        "plot_num(num, var='Vintage')"
      ]
    },
    {
      "cell_type": "code",
      "execution_count": 26,
      "id": "a9495c8e",
      "metadata": {
        "execution": {
          "iopub.execute_input": "2022-12-03T18:55:08.242249Z",
          "iopub.status.busy": "2022-12-03T18:55:08.241864Z",
          "iopub.status.idle": "2022-12-03T18:55:09.593743Z",
          "shell.execute_reply": "2022-12-03T18:55:09.592854Z"
        },
        "papermill": {
          "duration": 1.374302,
          "end_time": "2022-12-03T18:55:09.595966",
          "exception": false,
          "start_time": "2022-12-03T18:55:08.221664",
          "status": "completed"
        },
        "tags": [],
        "colab": {
          "base_uri": "https://localhost:8080/",
          "height": 355
        },
        "id": "a9495c8e",
        "outputId": "cdcd6f97-20aa-4397-d752-a32fd0c92046"
      },
      "outputs": [
        {
          "output_type": "display_data",
          "data": {
            "text/plain": [
              "<Figure size 1080x360 with 3 Axes>"
            ],
            "image/png": "[encoded data removed]"
          },
          "metadata": {
            "needs_background": "light"
          }
        }
      ],
      "source": [
        "# new subset for a bivariate analysis\n",
        "num2 = pd.concat([y,num], axis=1)\n",
        "plt.rcParams['figure.figsize']=(15,5)\n",
        "plt.subplot(1,3,1)\n",
        "sns.boxplot(y='Age', x=y, data=num2, linewidth=2, palette=\"Set2\")\n",
        "plt.title('{} - Response boxplot'.format('Age'))\n",
        "plt.xticks(rotation=45)\n",
        "        \n",
        "plt.subplot(1,3,2)\n",
        "sns.boxplot(y='Annual_Premium', x=y, data=num2, linewidth=2, palette=\"Set2\")\n",
        "plt.title('{} - Response boxplot'.format('Annual_Premium'))\n",
        "plt.xticks(rotation=45)\n",
        "        \n",
        "plt.subplot(1,3,3)\n",
        "sns.boxplot(y='Vintage', x=y, data=num2, linewidth=2, palette=\"Set2\")\n",
        "plt.title('{} - Response boxplot'.format('Vintage'))\n",
        "plt.xticks(rotation=45)\n",
        "    \n",
        "plt.show()"
      ]
    },
    {
      "cell_type": "markdown",
      "id": "0b1702b6",
      "metadata": {
        "papermill": {
          "duration": 0.017771,
          "end_time": "2022-12-03T18:55:09.632476",
          "exception": false,
          "start_time": "2022-12-03T18:55:09.614705",
          "status": "completed"
        },
        "tags": [],
        "id": "0b1702b6"
      },
      "source": [
        "### Statistical Analysis"
      ]
    },
    {
      "cell_type": "code",
      "execution_count": 27,
      "id": "9086b8f5",
      "metadata": {
        "execution": {
          "iopub.execute_input": "2022-12-03T18:55:09.669844Z",
          "iopub.status.busy": "2022-12-03T18:55:09.669283Z",
          "iopub.status.idle": "2022-12-03T18:55:09.725460Z",
          "shell.execute_reply": "2022-12-03T18:55:09.724412Z"
        },
        "papermill": {
          "duration": 0.077592,
          "end_time": "2022-12-03T18:55:09.728035",
          "exception": false,
          "start_time": "2022-12-03T18:55:09.650443",
          "status": "completed"
        },
        "tags": [],
        "colab": {
          "base_uri": "https://localhost:8080/"
        },
        "id": "9086b8f5",
        "outputId": "eff81ee9-2e0e-404c-e5f9-1d1b24a20812"
      },
      "outputs": [
        {
          "output_type": "stream",
          "name": "stdout",
          "text": [
            "Age \n",
            "Mean : 38.822583565331705 \n",
            "Variance : 240.609445034806 \n",
            "Standard Deviation : 1.4713433772287088 \n",
            "Skewness : 0.6725363506891485 \n",
            "Kurtosis : -0.5656633888102887\n",
            "Annual_Premium \n",
            "Mean : 30564.389581458323 \n",
            "Variance : 296291929.5669131 \n",
            "Standard Deviation : 3357.409308330456 \n",
            "Skewness : 1.7660802637778974 \n",
            "Kurtosis : 34.00410682771704\n",
            "Vintage \n",
            "Mean : 154.34739667654136 \n",
            "Variance : 7000.86868079634 \n",
            "Standard Deviation : 14.1050642955642 \n",
            "Skewness : 0.003029504966164472 \n",
            "Kurtosis : -1.2006880332858327\n"
          ]
        }
      ],
      "source": [
        "# Univariate analysis looking at Mean, Standard Deviation, Skewness and Kurtosis\n",
        "for col in num:\n",
        "    print(col,\n",
        "        '\\nMean :', np.mean(num[col]),  \n",
        "        '\\nVariance :', np.var(num[col]),\n",
        "        '\\nStandard Deviation :', np.var(num[col]**0.5), \n",
        "        '\\nSkewness :', stats.skew(num[col]), \n",
        "        '\\nKurtosis :', stats.kurtosis(num[col]))"
      ]
    },
    {
      "cell_type": "markdown",
      "id": "5b541e90",
      "metadata": {
        "papermill": {
          "duration": 0.017856,
          "end_time": "2022-12-03T18:55:09.765236",
          "exception": false,
          "start_time": "2022-12-03T18:55:09.747380",
          "status": "completed"
        },
        "tags": [],
        "id": "5b541e90"
      },
      "source": [
        "# Categorical Features Analysis"
      ]
    },
    {
      "cell_type": "markdown",
      "id": "64b7e68e",
      "metadata": {
        "papermill": {
          "duration": 0.017917,
          "end_time": "2022-12-03T18:55:09.801327",
          "exception": false,
          "start_time": "2022-12-03T18:55:09.783410",
          "status": "completed"
        },
        "tags": [],
        "id": "64b7e68e"
      },
      "source": [
        "### Analysis for categorical features (univariate analysis, bivariate analysis)"
      ]
    },
    {
      "cell_type": "code",
      "execution_count": 28,
      "id": "3ef563be",
      "metadata": {
        "execution": {
          "iopub.execute_input": "2022-12-03T18:55:09.839856Z",
          "iopub.status.busy": "2022-12-03T18:55:09.838317Z",
          "iopub.status.idle": "2022-12-03T18:55:09.982594Z",
          "shell.execute_reply": "2022-12-03T18:55:09.981285Z"
        },
        "papermill": {
          "duration": 0.166112,
          "end_time": "2022-12-03T18:55:09.985316",
          "exception": false,
          "start_time": "2022-12-03T18:55:09.819204",
          "status": "completed"
        },
        "tags": [],
        "colab": {
          "base_uri": "https://localhost:8080/"
        },
        "id": "3ef563be",
        "outputId": "d5e6ff5f-56ac-4fd0-a27d-01f6b2b42f3f"
      },
      "outputs": [
        {
          "output_type": "stream",
          "name": "stdout",
          "text": [
            "Gender :  2  labels\n",
            "Driving_License :  2  labels\n",
            "Region_Code :  53  labels\n",
            "Previously_Insured :  2  labels\n",
            "Vehicle_Age :  3  labels\n",
            "Vehicle_Damage :  2  labels\n",
            "Policy_Sales_Channel :  155  labels\n"
          ]
        }
      ],
      "source": [
        "# let's have a look at how many labels for categorical features\n",
        "for col in X_full.columns:\n",
        "    if X_full[col].dtype ==\"object\":\n",
        "        print(col, ': ', len(X_full[col].unique()), ' labels')"
      ]
    },
    {
      "cell_type": "code",
      "execution_count": 29,
      "id": "b97407c5",
      "metadata": {
        "execution": {
          "iopub.execute_input": "2022-12-03T18:55:10.025207Z",
          "iopub.status.busy": "2022-12-03T18:55:10.023726Z",
          "iopub.status.idle": "2022-12-03T18:55:10.177435Z",
          "shell.execute_reply": "2022-12-03T18:55:10.176405Z"
        },
        "papermill": {
          "duration": 0.175589,
          "end_time": "2022-12-03T18:55:10.179847",
          "exception": false,
          "start_time": "2022-12-03T18:55:10.004258",
          "status": "completed"
        },
        "tags": [],
        "id": "b97407c5"
      },
      "outputs": [],
      "source": [
        "# Select categorical columns with relatively low cardinality (convenient but arbitrary)\n",
        "categorical_cols = [var for var in X_full.columns if\n",
        "                    X_full[var].nunique() <= 15 and \n",
        "                    X_full[var].dtype == \"object\"]"
      ]
    },
    {
      "cell_type": "code",
      "execution_count": 30,
      "id": "b6ec24fd",
      "metadata": {
        "execution": {
          "iopub.execute_input": "2022-12-03T18:55:10.218573Z",
          "iopub.status.busy": "2022-12-03T18:55:10.218249Z",
          "iopub.status.idle": "2022-12-03T18:55:10.239499Z",
          "shell.execute_reply": "2022-12-03T18:55:10.238482Z"
        },
        "papermill": {
          "duration": 0.043073,
          "end_time": "2022-12-03T18:55:10.241787",
          "exception": false,
          "start_time": "2022-12-03T18:55:10.198714",
          "status": "completed"
        },
        "tags": [],
        "colab": {
          "base_uri": "https://localhost:8080/"
        },
        "id": "b6ec24fd",
        "outputId": "182edc90-54b4-4fdc-83ef-6da6adf2e28a"
      },
      "outputs": [
        {
          "output_type": "execute_result",
          "data": {
            "text/plain": [
              "Index(['Gender', 'Driving_License', 'Previously_Insured', 'Vehicle_Age',\n",
              "       'Vehicle_Damage'],\n",
              "      dtype='object')"
            ]
          },
          "metadata": {},
          "execution_count": 30
        }
      ],
      "source": [
        "# Subset with categorical features\n",
        "cat = X_full[categorical_cols]\n",
        "cat.columns"
      ]
    },
    {
      "cell_type": "markdown",
      "id": "dc6b9eb2",
      "metadata": {
        "papermill": {
          "duration": 0.017964,
          "end_time": "2022-12-03T18:55:10.278127",
          "exception": false,
          "start_time": "2022-12-03T18:55:10.260163",
          "status": "completed"
        },
        "tags": [],
        "id": "dc6b9eb2"
      },
      "source": [
        "### Visualization"
      ]
    },
    {
      "cell_type": "code",
      "execution_count": 31,
      "id": "7c07d8d3",
      "metadata": {
        "execution": {
          "iopub.execute_input": "2022-12-03T18:55:10.317237Z",
          "iopub.status.busy": "2022-12-03T18:55:10.315695Z",
          "iopub.status.idle": "2022-12-03T18:55:11.336103Z",
          "shell.execute_reply": "2022-12-03T18:55:11.335233Z"
        },
        "papermill": {
          "duration": 1.042738,
          "end_time": "2022-12-03T18:55:11.339093",
          "exception": false,
          "start_time": "2022-12-03T18:55:10.296355",
          "status": "completed"
        },
        "tags": [],
        "colab": {
          "base_uri": "https://localhost:8080/",
          "height": 354
        },
        "id": "7c07d8d3",
        "outputId": "524d2ccb-ce59-48f3-a88d-ea9478540285"
      },
      "outputs": [
        {
          "output_type": "display_data",
          "data": {
            "text/plain": [
              "<Figure size 1080x360 with 2 Axes>"
            ],
            "image/png": "[encoded data removed]"
          },
          "metadata": {
            "needs_background": "light"
          }
        }
      ],
      "source": [
        "piechart(df, col1='Gender', col2='id')"
      ]
    },
    {
      "cell_type": "code",
      "execution_count": 32,
      "id": "7f4b0a83",
      "metadata": {
        "execution": {
          "iopub.execute_input": "2022-12-03T18:55:11.380882Z",
          "iopub.status.busy": "2022-12-03T18:55:11.380584Z",
          "iopub.status.idle": "2022-12-03T18:55:12.374002Z",
          "shell.execute_reply": "2022-12-03T18:55:12.372999Z"
        },
        "papermill": {
          "duration": 1.017728,
          "end_time": "2022-12-03T18:55:12.376249",
          "exception": false,
          "start_time": "2022-12-03T18:55:11.358521",
          "status": "completed"
        },
        "tags": [],
        "colab": {
          "base_uri": "https://localhost:8080/",
          "height": 354
        },
        "id": "7f4b0a83",
        "outputId": "5852e077-b299-4c0d-892b-d30db55be909"
      },
      "outputs": [
        {
          "output_type": "display_data",
          "data": {
            "text/plain": [
              "<Figure size 1080x360 with 2 Axes>"
            ],
            "image/png": "[encoded data removed]"
          },
          "metadata": {
            "needs_background": "light"
          }
        }
      ],
      "source": [
        "piechart(df, col1='Driving_License', col2='id')"
      ]
    },
    {
      "cell_type": "code",
      "execution_count": 33,
      "id": "2c7311b6",
      "metadata": {
        "execution": {
          "iopub.execute_input": "2022-12-03T18:55:12.418981Z",
          "iopub.status.busy": "2022-12-03T18:55:12.418642Z",
          "iopub.status.idle": "2022-12-03T18:55:13.581766Z",
          "shell.execute_reply": "2022-12-03T18:55:13.580881Z"
        },
        "papermill": {
          "duration": 1.186352,
          "end_time": "2022-12-03T18:55:13.583943",
          "exception": false,
          "start_time": "2022-12-03T18:55:12.397591",
          "status": "completed"
        },
        "tags": [],
        "colab": {
          "base_uri": "https://localhost:8080/",
          "height": 354
        },
        "id": "2c7311b6",
        "outputId": "d8411e06-c241-4fd0-abed-dd56feaa8f90"
      },
      "outputs": [
        {
          "output_type": "display_data",
          "data": {
            "text/plain": [
              "<Figure size 1080x360 with 2 Axes>"
            ],
            "image/png": "[encoded data removed]"
          },
          "metadata": {
            "needs_background": "light"
          }
        }
      ],
      "source": [
        "piechart(df, col1='Previously_Insured', col2='id')"
      ]
    },
    {
      "cell_type": "code",
      "execution_count": 34,
      "id": "0ce09a30",
      "metadata": {
        "execution": {
          "iopub.execute_input": "2022-12-03T18:55:13.624836Z",
          "iopub.status.busy": "2022-12-03T18:55:13.624123Z",
          "iopub.status.idle": "2022-12-03T18:55:14.310901Z",
          "shell.execute_reply": "2022-12-03T18:55:14.309864Z"
        },
        "papermill": {
          "duration": 0.709776,
          "end_time": "2022-12-03T18:55:14.313272",
          "exception": false,
          "start_time": "2022-12-03T18:55:13.603496",
          "status": "completed"
        },
        "tags": [],
        "colab": {
          "base_uri": "https://localhost:8080/",
          "height": 354
        },
        "id": "0ce09a30",
        "outputId": "eb3882a2-904f-4a45-9572-67d24f01de0f"
      },
      "outputs": [
        {
          "output_type": "display_data",
          "data": {
            "text/plain": [
              "<Figure size 1080x360 with 2 Axes>"
            ],
            "image/png": "[encoded data removed]"
          },
          "metadata": {
            "needs_background": "light"
          }
        }
      ],
      "source": [
        "piechart(df, col1='Vehicle_Age', col2='id')"
      ]
    },
    {
      "cell_type": "code",
      "execution_count": 35,
      "id": "2544604f",
      "metadata": {
        "execution": {
          "iopub.execute_input": "2022-12-03T18:55:14.355895Z",
          "iopub.status.busy": "2022-12-03T18:55:14.354244Z",
          "iopub.status.idle": "2022-12-03T18:55:15.079035Z",
          "shell.execute_reply": "2022-12-03T18:55:15.077946Z"
        },
        "papermill": {
          "duration": 0.748148,
          "end_time": "2022-12-03T18:55:15.081629",
          "exception": false,
          "start_time": "2022-12-03T18:55:14.333481",
          "status": "completed"
        },
        "tags": [],
        "colab": {
          "base_uri": "https://localhost:8080/",
          "height": 354
        },
        "id": "2544604f",
        "outputId": "e8e8c093-caa3-4c1d-8ed3-6269be34b9f5"
      },
      "outputs": [
        {
          "output_type": "display_data",
          "data": {
            "text/plain": [
              "<Figure size 1080x360 with 2 Axes>"
            ],
            "image/png": "[encoded data removed]"
          },
          "metadata": {
            "needs_background": "light"
          }
        }
      ],
      "source": [
        "piechart(df, col1='Vehicle_Damage', col2='id')"
      ]
    },
    {
      "cell_type": "code",
      "execution_count": 36,
      "id": "912919bb",
      "metadata": {
        "execution": {
          "iopub.execute_input": "2022-12-03T18:55:15.129128Z",
          "iopub.status.busy": "2022-12-03T18:55:15.128771Z",
          "iopub.status.idle": "2022-12-03T18:55:20.236900Z",
          "shell.execute_reply": "2022-12-03T18:55:20.235851Z"
        },
        "papermill": {
          "duration": 5.134344,
          "end_time": "2022-12-03T18:55:20.239072",
          "exception": false,
          "start_time": "2022-12-03T18:55:15.104728",
          "status": "completed"
        },
        "tags": [],
        "colab": {
          "base_uri": "https://localhost:8080/",
          "height": 743
        },
        "id": "912919bb",
        "outputId": "34ba2772-7c7b-46c7-dd4b-8b689c8bf758"
      },
      "outputs": [
        {
          "output_type": "display_data",
          "data": {
            "text/plain": [
              "<Figure size 1440x360 with 3 Axes>"
            ],
            "image/png": "[encoded data removed]"
          },
          "metadata": {
            "needs_background": "light"
          }
        },
        {
          "output_type": "display_data",
          "data": {
            "text/plain": [
              "<Figure size 1440x360 with 2 Axes>"
            ],
            "image/png": "[encoded data removed]"
          },
          "metadata": {
            "needs_background": "light"
          }
        }
      ],
      "source": [
        "# new subset for a bivariate analysis\n",
        "cat2 = pd.concat([y,cat], axis=1)\n",
        "plt.rcParams['figure.figsize']=(20,5)\n",
        "plt.subplot(1,3,1)\n",
        "sns.countplot(x=cat2['Gender'], hue=y, data=cat2, palette=\"Set1\")\n",
        "plt.title('{} - Response Barplot'.format('Gender'))\n",
        "plt.xticks(rotation=45)\n",
        "        \n",
        "plt.subplot(1,3,2)\n",
        "sns.countplot(x=cat2['Driving_License'], hue=y, data=cat2, palette=\"Set1\")\n",
        "plt.title('{} - Response Barplot'.format('Driving_License'))\n",
        "plt.xticks(rotation=45)\n",
        "        \n",
        "plt.subplot(1,3,3)\n",
        "sns.countplot(x=cat2['Previously_Insured'], hue=y, data=cat2, palette=\"Set1\")\n",
        "plt.title('{} - Response Barplot'.format('Previously_Insured'))\n",
        "plt.xticks(rotation=45)\n",
        "\n",
        "plt.show()\n",
        "\n",
        "plt.rcParams['figure.figsize']=(20,5)\n",
        "plt.subplot(1,2,1)\n",
        "sns.countplot(x=cat2['Vehicle_Age'], hue=y, data=cat2, palette=\"Set1\")\n",
        "plt.title('{} - Response Barplot'.format('Vehicle_Age'))\n",
        "plt.xticks(rotation=45)\n",
        "\n",
        "plt.subplot(1,2,2)\n",
        "sns.countplot(x=cat2['Vehicle_Damage'], hue=y, data=cat2, palette=\"Set1\")\n",
        "plt.title('{} - Response Barplot'.format('Vehicle_Damage'))\n",
        "plt.xticks(rotation=45)\n",
        "    \n",
        "plt.show()"
      ]
    },
    {
      "cell_type": "markdown",
      "id": "1ac01361",
      "metadata": {
        "papermill": {
          "duration": 0.02086,
          "end_time": "2022-12-03T18:55:20.281264",
          "exception": false,
          "start_time": "2022-12-03T18:55:20.260404",
          "status": "completed"
        },
        "tags": [],
        "id": "1ac01361"
      },
      "source": [
        "### Statistical Analysis"
      ]
    },
    {
      "cell_type": "code",
      "execution_count": 37,
      "id": "1129189d",
      "metadata": {
        "execution": {
          "iopub.execute_input": "2022-12-03T18:55:20.324973Z",
          "iopub.status.busy": "2022-12-03T18:55:20.323440Z",
          "iopub.status.idle": "2022-12-03T18:55:21.524172Z",
          "shell.execute_reply": "2022-12-03T18:55:21.522988Z"
        },
        "papermill": {
          "duration": 1.227609,
          "end_time": "2022-12-03T18:55:21.529277",
          "exception": false,
          "start_time": "2022-12-03T18:55:20.301668",
          "status": "completed"
        },
        "tags": [],
        "colab": {
          "base_uri": "https://localhost:8080/"
        },
        "id": "1129189d",
        "outputId": "531c94ce-1237-4fce-d5ad-ab59df677b5b"
      },
      "outputs": [
        {
          "output_type": "stream",
          "name": "stdout",
          "text": [
            "\n",
            " col_0    count  frequency\n",
            "Gender                   \n",
            "Female  175020   0.459239\n",
            "Male    206089   0.540761\n",
            "\n",
            " col_0             count  frequency\n",
            "Driving_License                   \n",
            "0                   812   0.002131\n",
            "1                380297   0.997869\n",
            "\n",
            " col_0                count  frequency\n",
            "Previously_Insured                   \n",
            "0                   206481    0.54179\n",
            "1                   174628    0.45821\n",
            "\n",
            " col_0         count  frequency\n",
            "Vehicle_Age                   \n",
            "1-2 Year     200316   0.525613\n",
            "< 1 Year     164786   0.432385\n",
            "> 2 Years     16007   0.042001\n",
            "\n",
            " col_0            count  frequency\n",
            "Vehicle_Damage                   \n",
            "No              188696   0.495123\n",
            "Yes             192413   0.504877\n"
          ]
        }
      ],
      "source": [
        "# Univariate analysis looking at frequency\n",
        "for col in cat:\n",
        "    count = pd.crosstab(index = cat[col], columns=\"count\")\n",
        "    percentage = pd.crosstab(index = cat[col], columns=\"frequency\")/pd.crosstab(index = cat[col], columns=\"frequency\").sum()\n",
        "    tab = pd.concat([count, percentage], axis=1)\n",
        "    print('\\n',tab)"
      ]
    },
    {
      "cell_type": "markdown",
      "id": "4a37d2f1",
      "metadata": {
        "papermill": {
          "duration": 0.039779,
          "end_time": "2022-12-03T18:55:21.618491",
          "exception": false,
          "start_time": "2022-12-03T18:55:21.578712",
          "status": "completed"
        },
        "tags": [],
        "id": "4a37d2f1"
      },
      "source": [
        "# Pre-Processing"
      ]
    },
    {
      "cell_type": "markdown",
      "id": "ff618622",
      "metadata": {
        "papermill": {
          "duration": 0.033346,
          "end_time": "2022-12-03T18:55:21.686858",
          "exception": false,
          "start_time": "2022-12-03T18:55:21.653512",
          "status": "completed"
        },
        "tags": [],
        "id": "ff618622"
      },
      "source": [
        "### Numerical Features Pre-Processing"
      ]
    },
    {
      "cell_type": "code",
      "execution_count": 38,
      "id": "efa4c7a0",
      "metadata": {
        "execution": {
          "iopub.execute_input": "2022-12-03T18:55:21.753929Z",
          "iopub.status.busy": "2022-12-03T18:55:21.753483Z",
          "iopub.status.idle": "2022-12-03T18:55:21.760560Z",
          "shell.execute_reply": "2022-12-03T18:55:21.759618Z"
        },
        "papermill": {
          "duration": 0.042839,
          "end_time": "2022-12-03T18:55:21.762606",
          "exception": false,
          "start_time": "2022-12-03T18:55:21.719767",
          "status": "completed"
        },
        "tags": [],
        "id": "efa4c7a0"
      },
      "outputs": [],
      "source": [
        "num_o = num.copy()"
      ]
    },
    {
      "cell_type": "code",
      "execution_count": 39,
      "id": "6804673d",
      "metadata": {
        "execution": {
          "iopub.execute_input": "2022-12-03T18:55:21.826159Z",
          "iopub.status.busy": "2022-12-03T18:55:21.825799Z",
          "iopub.status.idle": "2022-12-03T18:55:21.875365Z",
          "shell.execute_reply": "2022-12-03T18:55:21.874392Z"
        },
        "papermill": {
          "duration": 0.083942,
          "end_time": "2022-12-03T18:55:21.877742",
          "exception": false,
          "start_time": "2022-12-03T18:55:21.793800",
          "status": "completed"
        },
        "tags": [],
        "id": "6804673d"
      },
      "outputs": [],
      "source": [
        "# outliers correction\n",
        "for col in num_o.columns:\n",
        "    q75, q25 = np.percentile(num_o[col].dropna(), [75 ,25])\n",
        "    iqr = q75 - q25 \n",
        "    min = q25 - (iqr*1.5)\n",
        "    max = q75 + (iqr*1.5) \n",
        "    num_o[col].mask(num_o[col]<min, min, inplace=True)\n",
        "    num_o[col].mask(num_o[col]>max, max, inplace=True)"
      ]
    },
    {
      "cell_type": "code",
      "execution_count": 40,
      "id": "cac80d0d",
      "metadata": {
        "execution": {
          "iopub.execute_input": "2022-12-03T18:55:21.940804Z",
          "iopub.status.busy": "2022-12-03T18:55:21.940434Z",
          "iopub.status.idle": "2022-12-03T18:55:22.497112Z",
          "shell.execute_reply": "2022-12-03T18:55:22.495877Z"
        },
        "papermill": {
          "duration": 0.59121,
          "end_time": "2022-12-03T18:55:22.499523",
          "exception": false,
          "start_time": "2022-12-03T18:55:21.908313",
          "status": "completed"
        },
        "tags": [],
        "colab": {
          "base_uri": "https://localhost:8080/",
          "height": 1000
        },
        "id": "cac80d0d",
        "outputId": "97609f30-d0ea-4126-87d5-6b59fa05bfed"
      },
      "outputs": [
        {
          "output_type": "display_data",
          "data": {
            "text/plain": [
              "<Figure size 360x360 with 1 Axes>"
            ],
            "image/png": "[encoded data removed]"
          },
          "metadata": {
            "needs_background": "light"
          }
        },
        {
          "output_type": "display_data",
          "data": {
            "text/plain": [
              "<Figure size 360x360 with 1 Axes>"
            ],
            "image/png": "[encoded data removed]"
          },
          "metadata": {
            "needs_background": "light"
          }
        },
        {
          "output_type": "display_data",
          "data": {
            "text/plain": [
              "<Figure size 360x360 with 1 Axes>"
            ],
            "image/png": "[encoded data removed]"
          },
          "metadata": {
            "needs_background": "light"
          }
        }
      ],
      "source": [
        "# check corrections\n",
        "for col in num_o:\n",
        "    plt.rcParams['figure.figsize']=(5,5)\n",
        "    x=num_o[col]\n",
        "    sns.boxplot(x,linewidth=1)\n",
        "    plt.xticks(rotation=45)\n",
        "    plt.show()"
      ]
    },
    {
      "cell_type": "markdown",
      "id": "4be14350",
      "metadata": {
        "papermill": {
          "duration": 0.022304,
          "end_time": "2022-12-03T18:55:22.544332",
          "exception": false,
          "start_time": "2022-12-03T18:55:22.522028",
          "status": "completed"
        },
        "tags": [],
        "id": "4be14350"
      },
      "source": [
        "### Categorical Features Pre-Processing"
      ]
    },
    {
      "cell_type": "code",
      "execution_count": 41,
      "id": "446c6150",
      "metadata": {
        "execution": {
          "iopub.execute_input": "2022-12-03T18:55:22.590097Z",
          "iopub.status.busy": "2022-12-03T18:55:22.589276Z",
          "iopub.status.idle": "2022-12-03T18:55:22.661152Z",
          "shell.execute_reply": "2022-12-03T18:55:22.660209Z"
        },
        "papermill": {
          "duration": 0.096613,
          "end_time": "2022-12-03T18:55:22.663500",
          "exception": false,
          "start_time": "2022-12-03T18:55:22.566887",
          "status": "completed"
        },
        "tags": [],
        "id": "446c6150"
      },
      "outputs": [],
      "source": [
        "# Transform in integer binary variables\n",
        "y = y.astype('int')\n",
        "cat2['Driving_License'] = cat2['Driving_License'].astype('int')\n",
        "cat2['Previously_Insured'] = cat2['Previously_Insured'].astype('int')"
      ]
    },
    {
      "cell_type": "code",
      "execution_count": 42,
      "id": "70ba49ca",
      "metadata": {
        "execution": {
          "iopub.execute_input": "2022-12-03T18:55:22.708353Z",
          "iopub.status.busy": "2022-12-03T18:55:22.708048Z",
          "iopub.status.idle": "2022-12-03T18:55:22.767018Z",
          "shell.execute_reply": "2022-12-03T18:55:22.766145Z"
        },
        "papermill": {
          "duration": 0.083487,
          "end_time": "2022-12-03T18:55:22.769235",
          "exception": false,
          "start_time": "2022-12-03T18:55:22.685748",
          "status": "completed"
        },
        "tags": [],
        "id": "70ba49ca"
      },
      "outputs": [],
      "source": [
        "cat2['Gender']=cat2['Gender'].map({'Female':0,'Male':1})\n",
        "cat2['Vehicle_Damage']=cat2['Vehicle_Damage'].map({'No':0,'Yes':1})"
      ]
    },
    {
      "cell_type": "code",
      "execution_count": 43,
      "id": "4b10a49f",
      "metadata": {
        "execution": {
          "iopub.execute_input": "2022-12-03T18:55:22.813206Z",
          "iopub.status.busy": "2022-12-03T18:55:22.812870Z",
          "iopub.status.idle": "2022-12-03T18:55:22.898029Z",
          "shell.execute_reply": "2022-12-03T18:55:22.897112Z"
        },
        "papermill": {
          "duration": 0.109576,
          "end_time": "2022-12-03T18:55:22.900223",
          "exception": false,
          "start_time": "2022-12-03T18:55:22.790647",
          "status": "completed"
        },
        "tags": [],
        "id": "4b10a49f"
      },
      "outputs": [],
      "source": [
        "# calculate the mean target value per category for each feature and capture the result in a dictionary \n",
        "Vehicle_Age_LABELS = cat2.groupby(['Vehicle_Age'])['Response'].mean().to_dict()\n",
        "# replace for each feature the labels with the mean target values\n",
        "cat2['Vehicle_Age'] = cat2['Vehicle_Age'].map(Vehicle_Age_LABELS)\n"
      ]
    },
    {
      "cell_type": "code",
      "execution_count": 44,
      "id": "734d5c77",
      "metadata": {
        "execution": {
          "iopub.execute_input": "2022-12-03T18:55:22.944584Z",
          "iopub.status.busy": "2022-12-03T18:55:22.944278Z",
          "iopub.status.idle": "2022-12-03T18:55:22.959726Z",
          "shell.execute_reply": "2022-12-03T18:55:22.958875Z"
        },
        "papermill": {
          "duration": 0.039946,
          "end_time": "2022-12-03T18:55:22.961812",
          "exception": false,
          "start_time": "2022-12-03T18:55:22.921866",
          "status": "completed"
        },
        "tags": [],
        "colab": {
          "base_uri": "https://localhost:8080/"
        },
        "id": "734d5c77",
        "outputId": "d05b1ea1-e5a8-49d8-e131-e919a7503fed"
      },
      "outputs": [
        {
          "output_type": "execute_result",
          "data": {
            "text/plain": [
              "(381109, 5)"
            ]
          },
          "metadata": {},
          "execution_count": 44
        }
      ],
      "source": [
        "# Look at the new subset\n",
        "target_cat = cat2.drop(['Response'], axis=1)\n",
        "target_cat.shape"
      ]
    },
    {
      "cell_type": "code",
      "execution_count": 45,
      "id": "5c1267b5",
      "metadata": {
        "execution": {
          "iopub.execute_input": "2022-12-03T18:55:23.006515Z",
          "iopub.status.busy": "2022-12-03T18:55:23.006228Z",
          "iopub.status.idle": "2022-12-03T18:55:23.016770Z",
          "shell.execute_reply": "2022-12-03T18:55:23.015805Z"
        },
        "papermill": {
          "duration": 0.035352,
          "end_time": "2022-12-03T18:55:23.019053",
          "exception": false,
          "start_time": "2022-12-03T18:55:22.983701",
          "status": "completed"
        },
        "tags": [],
        "colab": {
          "base_uri": "https://localhost:8080/",
          "height": 206
        },
        "id": "5c1267b5",
        "outputId": "469a611d-dc72-4944-d418-ffdba85b1a06"
      },
      "outputs": [
        {
          "output_type": "execute_result",
          "data": {
            "text/plain": [
              "   Gender  Driving_License  Previously_Insured  Vehicle_Age  Vehicle_Damage\n",
              "0       1                1                   0     0.293746               1\n",
              "1       1                1                   0     0.173755               0\n",
              "2       1                1                   0     0.293746               1\n",
              "3       1                1                   1     0.043705               0\n",
              "4       0                1                   1     0.043705               0"
            ],
            "text/html": [
              "\n",
              "  <div id=\"df-2ba91069-34e7-4e0c-98fa-bfb3ed0a10bc\">\n",
              "    <div class=\"colab-df-container\">\n",
              "      <div>\n",
              "<style scoped>\n",
              "    .dataframe tbody tr th:only-of-type {\n",
              "        vertical-align: middle;\n",
              "    }\n",
              "\n",
              "    .dataframe tbody tr th {\n",
              "        vertical-align: top;\n",
              "    }\n",
              "\n",
              "    .dataframe thead th {\n",
              "        text-align: right;\n",
              "    }\n",
              "</style>\n",
              "<table border=\"1\" class=\"dataframe\">\n",
              "  <thead>\n",
              "    <tr style=\"text-align: right;\">\n",
              "      <th></th>\n",
              "      <th>Gender</th>\n",
              "      <th>Driving_License</th>\n",
              "      <th>Previously_Insured</th>\n",
              "      <th>Vehicle_Age</th>\n",
              "      <th>Vehicle_Damage</th>\n",
              "    </tr>\n",
              "  </thead>\n",
              "  <tbody>\n",
              "    <tr>\n",
              "      <th>0</th>\n",
              "      <td>1</td>\n",
              "      <td>1</td>\n",
              "      <td>0</td>\n",
              "      <td>0.293746</td>\n",
              "      <td>1</td>\n",
              "    </tr>\n",
              "    <tr>\n",
              "      <th>1</th>\n",
              "      <td>1</td>\n",
              "      <td>1</td>\n",
              "      <td>0</td>\n",
              "      <td>0.173755</td>\n",
              "      <td>0</td>\n",
              "    </tr>\n",
              "    <tr>\n",
              "      <th>2</th>\n",
              "      <td>1</td>\n",
              "      <td>1</td>\n",
              "      <td>0</td>\n",
              "      <td>0.293746</td>\n",
              "      <td>1</td>\n",
              "    </tr>\n",
              "    <tr>\n",
              "      <th>3</th>\n",
              "      <td>1</td>\n",
              "      <td>1</td>\n",
              "      <td>1</td>\n",
              "      <td>0.043705</td>\n",
              "      <td>0</td>\n",
              "    </tr>\n",
              "    <tr>\n",
              "      <th>4</th>\n",
              "      <td>0</td>\n",
              "      <td>1</td>\n",
              "      <td>1</td>\n",
              "      <td>0.043705</td>\n",
              "      <td>0</td>\n",
              "    </tr>\n",
              "  </tbody>\n",
              "</table>\n",
              "</div>\n",
              "      <button class=\"colab-df-convert\" onclick=\"convertToInteractive('df-2ba91069-34e7-4e0c-98fa-bfb3ed0a10bc')\"\n",
              "              title=\"Convert this dataframe to an interactive table.\"\n",
              "              style=\"display:none;\">\n",
              "        \n",
              "  <svg xmlns=\"http://www.w3.org/2000/svg\" height=\"24px\"viewBox=\"0 0 24 24\"\n",
              "       width=\"24px\">\n",
              "    <path d=\"M0 0h24v24H0V0z\" fill=\"none\"/>\n",
              "    <path d=\"M18.56 5.44l.94 2.06.94-2.06 2.06-.94-2.06-.94-.94-2.06-.94 2.06-2.06.94zm-11 1L8.5 8.5l.94-2.06 2.06-.94-2.06-.94L8.5 2.5l-.94 2.06-2.06.94zm10 10l.94 2.06.94-2.06 2.06-.94-2.06-.94-.94-2.06-.94 2.06-2.06.94z\"/><path d=\"M17.41 7.96l-1.37-1.37c-.4-.4-.92-.59-1.43-.59-.52 0-1.04.2-1.43.59L10.3 9.45l-7.72 7.72c-.78.78-.78 2.05 0 2.83L4 21.41c.39.39.9.59 1.41.59.51 0 1.02-.2 1.41-.59l7.78-7.78 2.81-2.81c.8-.78.8-2.07 0-2.86zM5.41 20L4 18.59l7.72-7.72 1.47 1.35L5.41 20z\"/>\n",
              "  </svg>\n",
              "      </button>\n",
              "      \n",
              "  <style>\n",
              "    .colab-df-container {\n",
              "      display:flex;\n",
              "      flex-wrap:wrap;\n",
              "      gap: 12px;\n",
              "    }\n",
              "\n",
              "    .colab-df-convert {\n",
              "      background-color: #E8F0FE;\n",
              "      border: none;\n",
              "      border-radius: 50%;\n",
              "      cursor: pointer;\n",
              "      display: none;\n",
              "      fill: #1967D2;\n",
              "      height: 32px;\n",
              "      padding: 0 0 0 0;\n",
              "      width: 32px;\n",
              "    }\n",
              "\n",
              "    .colab-df-convert:hover {\n",
              "      background-color: #E2EBFA;\n",
              "      box-shadow: 0px 1px 2px rgba(60, 64, 67, 0.3), 0px 1px 3px 1px rgba(60, 64, 67, 0.15);\n",
              "      fill: #174EA6;\n",
              "    }\n",
              "\n",
              "    [theme=dark] .colab-df-convert {\n",
              "      background-color: #3B4455;\n",
              "      fill: #D2E3FC;\n",
              "    }\n",
              "\n",
              "    [theme=dark] .colab-df-convert:hover {\n",
              "      background-color: #434B5C;\n",
              "      box-shadow: 0px 1px 3px 1px rgba(0, 0, 0, 0.15);\n",
              "      filter: drop-shadow(0px 1px 2px rgba(0, 0, 0, 0.3));\n",
              "      fill: #FFFFFF;\n",
              "    }\n",
              "  </style>\n",
              "\n",
              "      <script>\n",
              "        const buttonEl =\n",
              "          document.querySelector('#df-2ba91069-34e7-4e0c-98fa-bfb3ed0a10bc button.colab-df-convert');\n",
              "        buttonEl.style.display =\n",
              "          google.colab.kernel.accessAllowed ? 'block' : 'none';\n",
              "\n",
              "        async function convertToInteractive(key) {\n",
              "          const element = document.querySelector('#df-2ba91069-34e7-4e0c-98fa-bfb3ed0a10bc');\n",
              "          const dataTable =\n",
              "            await google.colab.kernel.invokeFunction('convertToInteractive',\n",
              "                                                     [key], {});\n",
              "          if (!dataTable) return;\n",
              "\n",
              "          const docLinkHtml = 'Like what you see? Visit the ' +\n",
              "            '<a target=\"_blank\" href=https://colab.research.google.com/notebooks/data_table.ipynb>data table notebook</a>'\n",
              "            + ' to learn more about interactive tables.';\n",
              "          element.innerHTML = '';\n",
              "          dataTable['output_type'] = 'display_data';\n",
              "          await google.colab.output.renderOutput(dataTable, element);\n",
              "          const docLink = document.createElement('div');\n",
              "          docLink.innerHTML = docLinkHtml;\n",
              "          element.appendChild(docLink);\n",
              "        }\n",
              "      </script>\n",
              "    </div>\n",
              "  </div>\n",
              "  "
            ]
          },
          "metadata": {},
          "execution_count": 45
        }
      ],
      "source": [
        "target_cat.head()"
      ]
    },
    {
      "cell_type": "code",
      "execution_count": 46,
      "id": "4ec7c07c",
      "metadata": {
        "execution": {
          "iopub.execute_input": "2022-12-03T18:55:23.064195Z",
          "iopub.status.busy": "2022-12-03T18:55:23.063865Z",
          "iopub.status.idle": "2022-12-03T18:55:23.074563Z",
          "shell.execute_reply": "2022-12-03T18:55:23.073742Z"
        },
        "papermill": {
          "duration": 0.035585,
          "end_time": "2022-12-03T18:55:23.076521",
          "exception": false,
          "start_time": "2022-12-03T18:55:23.040936",
          "status": "completed"
        },
        "tags": [],
        "id": "4ec7c07c"
      },
      "outputs": [],
      "source": [
        "# Grasp all\n",
        "X_all = pd.concat([num_o,target_cat], axis=1)"
      ]
    },
    {
      "cell_type": "markdown",
      "id": "9a8d6728",
      "metadata": {
        "papermill": {
          "duration": 0.021924,
          "end_time": "2022-12-03T18:55:23.120175",
          "exception": false,
          "start_time": "2022-12-03T18:55:23.098251",
          "status": "completed"
        },
        "tags": [],
        "id": "9a8d6728"
      },
      "source": [
        "### Zero Variance Predictors"
      ]
    },
    {
      "cell_type": "code",
      "execution_count": 47,
      "id": "3751b42d",
      "metadata": {
        "execution": {
          "iopub.execute_input": "2022-12-03T18:55:23.164233Z",
          "iopub.status.busy": "2022-12-03T18:55:23.163964Z",
          "iopub.status.idle": "2022-12-03T18:55:23.184681Z",
          "shell.execute_reply": "2022-12-03T18:55:23.183490Z"
        },
        "papermill": {
          "duration": 0.045197,
          "end_time": "2022-12-03T18:55:23.186734",
          "exception": false,
          "start_time": "2022-12-03T18:55:23.141537",
          "status": "completed"
        },
        "tags": [],
        "colab": {
          "base_uri": "https://localhost:8080/"
        },
        "id": "3751b42d",
        "outputId": "57ce5eca-ffee-424c-bc06-8a09a75ff84c"
      },
      "outputs": [
        {
          "output_type": "execute_result",
          "data": {
            "text/plain": [
              "[]"
            ]
          },
          "metadata": {},
          "execution_count": 47
        }
      ],
      "source": [
        "# Find features with variance equal zero \n",
        "to_drop = [col for col in X_all.columns if np.var(X_all[col]) == 0]\n",
        "to_drop"
      ]
    },
    {
      "cell_type": "code",
      "execution_count": 48,
      "id": "2d0d473b",
      "metadata": {
        "execution": {
          "iopub.execute_input": "2022-12-03T18:55:23.231481Z",
          "iopub.status.busy": "2022-12-03T18:55:23.231193Z",
          "iopub.status.idle": "2022-12-03T18:55:23.250498Z",
          "shell.execute_reply": "2022-12-03T18:55:23.249577Z"
        },
        "papermill": {
          "duration": 0.04447,
          "end_time": "2022-12-03T18:55:23.252827",
          "exception": false,
          "start_time": "2022-12-03T18:55:23.208357",
          "status": "completed"
        },
        "tags": [],
        "id": "2d0d473b"
      },
      "outputs": [],
      "source": [
        "# Drop features \n",
        "X_all_v = X_all.drop(X_all[to_drop], axis=1)"
      ]
    },
    {
      "cell_type": "markdown",
      "id": "375d1f20",
      "metadata": {
        "papermill": {
          "duration": 0.021943,
          "end_time": "2022-12-03T18:55:23.296843",
          "exception": false,
          "start_time": "2022-12-03T18:55:23.274900",
          "status": "completed"
        },
        "tags": [],
        "id": "375d1f20"
      },
      "source": [
        "### Correlated Predictors"
      ]
    },
    {
      "cell_type": "code",
      "execution_count": 49,
      "id": "ed33a430",
      "metadata": {
        "execution": {
          "iopub.execute_input": "2022-12-03T18:55:23.341685Z",
          "iopub.status.busy": "2022-12-03T18:55:23.341385Z",
          "iopub.status.idle": "2022-12-03T18:55:24.147277Z",
          "shell.execute_reply": "2022-12-03T18:55:24.146319Z"
        },
        "papermill": {
          "duration": 0.83104,
          "end_time": "2022-12-03T18:55:24.149628",
          "exception": false,
          "start_time": "2022-12-03T18:55:23.318588",
          "status": "completed"
        },
        "tags": [],
        "colab": {
          "base_uri": "https://localhost:8080/",
          "height": 430
        },
        "id": "ed33a430",
        "outputId": "7b6d45ba-6178-4334-88de-c2c364e96832"
      },
      "outputs": [
        {
          "output_type": "display_data",
          "data": {
            "text/plain": [
              "<Figure size 360x360 with 2 Axes>"
            ],
            "image/png": "[encoded data removed]"
          },
          "metadata": {
            "needs_background": "light"
          }
        }
      ],
      "source": [
        "# Correlation \n",
        "corr_matrix = X_all_v.corr(method ='spearman')\n",
        "sns.heatmap(corr_matrix, square = True, annot=True, fmt='.2f')\n",
        "plt.title('Correlation Heatmap on data set',size=15)\n",
        "plt.yticks(fontsize=\"15\")\n",
        "plt.xticks(fontsize=\"15\")\n",
        "plt.show()"
      ]
    },
    {
      "cell_type": "code",
      "execution_count": 50,
      "id": "0dea80c4",
      "metadata": {
        "execution": {
          "iopub.execute_input": "2022-12-03T18:55:24.198343Z",
          "iopub.status.busy": "2022-12-03T18:55:24.198026Z",
          "iopub.status.idle": "2022-12-03T18:55:24.208277Z",
          "shell.execute_reply": "2022-12-03T18:55:24.207353Z"
        },
        "papermill": {
          "duration": 0.037533,
          "end_time": "2022-12-03T18:55:24.210277",
          "exception": false,
          "start_time": "2022-12-03T18:55:24.172744",
          "status": "completed"
        },
        "tags": [],
        "colab": {
          "base_uri": "https://localhost:8080/"
        },
        "id": "0dea80c4",
        "outputId": "c4567ea6-313d-4ca7-ee4c-2284f1f8947c"
      },
      "outputs": [
        {
          "output_type": "execute_result",
          "data": {
            "text/plain": [
              "['Vehicle_Age', 'Vehicle_Damage']"
            ]
          },
          "metadata": {},
          "execution_count": 50
        }
      ],
      "source": [
        "\n",
        "# Select correlated features and removed it\n",
        "# Select upper triangle of correlation matrix\n",
        "upper = corr_matrix.where(np.triu(np.ones(corr_matrix.shape), k=1).astype(bool))\n",
        "# Find index of feature columns with correlation greater than 0.80\n",
        "to_drop = [column for column in upper.columns if any(upper[column].abs() > 0.80)]\n",
        "to_drop"
      ]
    },
    {
      "cell_type": "code",
      "execution_count": 51,
      "id": "d9e5253d",
      "metadata": {
        "execution": {
          "iopub.execute_input": "2022-12-03T18:55:24.259597Z",
          "iopub.status.busy": "2022-12-03T18:55:24.258734Z",
          "iopub.status.idle": "2022-12-03T18:55:24.269311Z",
          "shell.execute_reply": "2022-12-03T18:55:24.268471Z"
        },
        "papermill": {
          "duration": 0.037666,
          "end_time": "2022-12-03T18:55:24.271278",
          "exception": false,
          "start_time": "2022-12-03T18:55:24.233612",
          "status": "completed"
        },
        "tags": [],
        "id": "d9e5253d"
      },
      "outputs": [],
      "source": [
        "# Drop features \n",
        "X_all_c = X_all_v.drop(X_all_v[to_drop], axis=1)"
      ]
    },
    {
      "cell_type": "code",
      "execution_count": 52,
      "id": "7a44e79e",
      "metadata": {
        "execution": {
          "iopub.execute_input": "2022-12-03T18:55:24.319380Z",
          "iopub.status.busy": "2022-12-03T18:55:24.318603Z",
          "iopub.status.idle": "2022-12-03T18:55:24.329662Z",
          "shell.execute_reply": "2022-12-03T18:55:24.328682Z"
        },
        "papermill": {
          "duration": 0.036862,
          "end_time": "2022-12-03T18:55:24.331810",
          "exception": false,
          "start_time": "2022-12-03T18:55:24.294948",
          "status": "completed"
        },
        "tags": [],
        "colab": {
          "base_uri": "https://localhost:8080/",
          "height": 206
        },
        "id": "7a44e79e",
        "outputId": "377c69ac-a148-4089-ef8d-06a3d7917a33"
      },
      "outputs": [
        {
          "output_type": "execute_result",
          "data": {
            "text/plain": [
              "   Age  Annual_Premium  Vintage  Gender  Driving_License  Previously_Insured\n",
              "0   44         40454.0      217       1                1                   0\n",
              "1   76         33536.0      183       1                1                   0\n",
              "2   47         38294.0       27       1                1                   0\n",
              "3   21         28619.0      203       1                1                   1\n",
              "4   29         27496.0       39       0                1                   1"
            ],
            "text/html": [
              "\n",
              "  <div id=\"df-5f52f272-1da4-471e-a168-885f4a02f5d2\">\n",
              "    <div class=\"colab-df-container\">\n",
              "      <div>\n",
              "<style scoped>\n",
              "    .dataframe tbody tr th:only-of-type {\n",
              "        vertical-align: middle;\n",
              "    }\n",
              "\n",
              "    .dataframe tbody tr th {\n",
              "        vertical-align: top;\n",
              "    }\n",
              "\n",
              "    .dataframe thead th {\n",
              "        text-align: right;\n",
              "    }\n",
              "</style>\n",
              "<table border=\"1\" class=\"dataframe\">\n",
              "  <thead>\n",
              "    <tr style=\"text-align: right;\">\n",
              "      <th></th>\n",
              "      <th>Age</th>\n",
              "      <th>Annual_Premium</th>\n",
              "      <th>Vintage</th>\n",
              "      <th>Gender</th>\n",
              "      <th>Driving_License</th>\n",
              "      <th>Previously_Insured</th>\n",
              "    </tr>\n",
              "  </thead>\n",
              "  <tbody>\n",
              "    <tr>\n",
              "      <th>0</th>\n",
              "      <td>44</td>\n",
              "      <td>40454.0</td>\n",
              "      <td>217</td>\n",
              "      <td>1</td>\n",
              "      <td>1</td>\n",
              "      <td>0</td>\n",
              "    </tr>\n",
              "    <tr>\n",
              "      <th>1</th>\n",
              "      <td>76</td>\n",
              "      <td>33536.0</td>\n",
              "      <td>183</td>\n",
              "      <td>1</td>\n",
              "      <td>1</td>\n",
              "      <td>0</td>\n",
              "    </tr>\n",
              "    <tr>\n",
              "      <th>2</th>\n",
              "      <td>47</td>\n",
              "      <td>38294.0</td>\n",
              "      <td>27</td>\n",
              "      <td>1</td>\n",
              "      <td>1</td>\n",
              "      <td>0</td>\n",
              "    </tr>\n",
              "    <tr>\n",
              "      <th>3</th>\n",
              "      <td>21</td>\n",
              "      <td>28619.0</td>\n",
              "      <td>203</td>\n",
              "      <td>1</td>\n",
              "      <td>1</td>\n",
              "      <td>1</td>\n",
              "    </tr>\n",
              "    <tr>\n",
              "      <th>4</th>\n",
              "      <td>29</td>\n",
              "      <td>27496.0</td>\n",
              "      <td>39</td>\n",
              "      <td>0</td>\n",
              "      <td>1</td>\n",
              "      <td>1</td>\n",
              "    </tr>\n",
              "  </tbody>\n",
              "</table>\n",
              "</div>\n",
              "      <button class=\"colab-df-convert\" onclick=\"convertToInteractive('df-5f52f272-1da4-471e-a168-885f4a02f5d2')\"\n",
              "              title=\"Convert this dataframe to an interactive table.\"\n",
              "              style=\"display:none;\">\n",
              "        \n",
              "  <svg xmlns=\"http://www.w3.org/2000/svg\" height=\"24px\"viewBox=\"0 0 24 24\"\n",
              "       width=\"24px\">\n",
              "    <path d=\"M0 0h24v24H0V0z\" fill=\"none\"/>\n",
              "    <path d=\"M18.56 5.44l.94 2.06.94-2.06 2.06-.94-2.06-.94-.94-2.06-.94 2.06-2.06.94zm-11 1L8.5 8.5l.94-2.06 2.06-.94-2.06-.94L8.5 2.5l-.94 2.06-2.06.94zm10 10l.94 2.06.94-2.06 2.06-.94-2.06-.94-.94-2.06-.94 2.06-2.06.94z\"/><path d=\"M17.41 7.96l-1.37-1.37c-.4-.4-.92-.59-1.43-.59-.52 0-1.04.2-1.43.59L10.3 9.45l-7.72 7.72c-.78.78-.78 2.05 0 2.83L4 21.41c.39.39.9.59 1.41.59.51 0 1.02-.2 1.41-.59l7.78-7.78 2.81-2.81c.8-.78.8-2.07 0-2.86zM5.41 20L4 18.59l7.72-7.72 1.47 1.35L5.41 20z\"/>\n",
              "  </svg>\n",
              "      </button>\n",
              "      \n",
              "  <style>\n",
              "    .colab-df-container {\n",
              "      display:flex;\n",
              "      flex-wrap:wrap;\n",
              "      gap: 12px;\n",
              "    }\n",
              "\n",
              "    .colab-df-convert {\n",
              "      background-color: #E8F0FE;\n",
              "      border: none;\n",
              "      border-radius: 50%;\n",
              "      cursor: pointer;\n",
              "      display: none;\n",
              "      fill: #1967D2;\n",
              "      height: 32px;\n",
              "      padding: 0 0 0 0;\n",
              "      width: 32px;\n",
              "    }\n",
              "\n",
              "    .colab-df-convert:hover {\n",
              "      background-color: #E2EBFA;\n",
              "      box-shadow: 0px 1px 2px rgba(60, 64, 67, 0.3), 0px 1px 3px 1px rgba(60, 64, 67, 0.15);\n",
              "      fill: #174EA6;\n",
              "    }\n",
              "\n",
              "    [theme=dark] .colab-df-convert {\n",
              "      background-color: #3B4455;\n",
              "      fill: #D2E3FC;\n",
              "    }\n",
              "\n",
              "    [theme=dark] .colab-df-convert:hover {\n",
              "      background-color: #434B5C;\n",
              "      box-shadow: 0px 1px 3px 1px rgba(0, 0, 0, 0.15);\n",
              "      filter: drop-shadow(0px 1px 2px rgba(0, 0, 0, 0.3));\n",
              "      fill: #FFFFFF;\n",
              "    }\n",
              "  </style>\n",
              "\n",
              "      <script>\n",
              "        const buttonEl =\n",
              "          document.querySelector('#df-5f52f272-1da4-471e-a168-885f4a02f5d2 button.colab-df-convert');\n",
              "        buttonEl.style.display =\n",
              "          google.colab.kernel.accessAllowed ? 'block' : 'none';\n",
              "\n",
              "        async function convertToInteractive(key) {\n",
              "          const element = document.querySelector('#df-5f52f272-1da4-471e-a168-885f4a02f5d2');\n",
              "          const dataTable =\n",
              "            await google.colab.kernel.invokeFunction('convertToInteractive',\n",
              "                                                     [key], {});\n",
              "          if (!dataTable) return;\n",
              "\n",
              "          const docLinkHtml = 'Like what you see? Visit the ' +\n",
              "            '<a target=\"_blank\" href=https://colab.research.google.com/notebooks/data_table.ipynb>data table notebook</a>'\n",
              "            + ' to learn more about interactive tables.';\n",
              "          element.innerHTML = '';\n",
              "          dataTable['output_type'] = 'display_data';\n",
              "          await google.colab.output.renderOutput(dataTable, element);\n",
              "          const docLink = document.createElement('div');\n",
              "          docLink.innerHTML = docLinkHtml;\n",
              "          element.appendChild(docLink);\n",
              "        }\n",
              "      </script>\n",
              "    </div>\n",
              "  </div>\n",
              "  "
            ]
          },
          "metadata": {},
          "execution_count": 52
        }
      ],
      "source": [
        "X_all_c.head()"
      ]
    },
    {
      "cell_type": "code",
      "execution_count": 53,
      "id": "dfaeb182",
      "metadata": {
        "execution": {
          "iopub.execute_input": "2022-12-03T18:55:24.380887Z",
          "iopub.status.busy": "2022-12-03T18:55:24.380243Z",
          "iopub.status.idle": "2022-12-03T18:55:24.408839Z",
          "shell.execute_reply": "2022-12-03T18:55:24.407881Z"
        },
        "papermill": {
          "duration": 0.055361,
          "end_time": "2022-12-03T18:55:24.411236",
          "exception": false,
          "start_time": "2022-12-03T18:55:24.355875",
          "status": "completed"
        },
        "tags": [],
        "id": "dfaeb182"
      },
      "outputs": [],
      "source": [
        "# Normalization \n",
        "scaling = MinMaxScaler()\n",
        "# Normalization of numerical features\n",
        "num_sc = pd.DataFrame(scaling.fit_transform(X_all_c[['Age','Annual_Premium','Vintage']]), columns= ['Age','Annual_Premium','Vintage'])\n",
        "# Grasp all\n",
        "X_all_sc = pd.concat([num_sc, X_all_c[['Gender','Driving_License','Previously_Insured']]], axis=1)"
      ]
    },
    {
      "cell_type": "code",
      "execution_count": 54,
      "id": "cef98b90",
      "metadata": {
        "execution": {
          "iopub.execute_input": "2022-12-03T18:55:24.460837Z",
          "iopub.status.busy": "2022-12-03T18:55:24.460149Z",
          "iopub.status.idle": "2022-12-03T18:55:24.591015Z",
          "shell.execute_reply": "2022-12-03T18:55:24.589838Z"
        },
        "papermill": {
          "duration": 0.158598,
          "end_time": "2022-12-03T18:55:24.594048",
          "exception": false,
          "start_time": "2022-12-03T18:55:24.435450",
          "status": "completed"
        },
        "tags": [],
        "id": "cef98b90"
      },
      "outputs": [],
      "source": [
        "# Split data set\n",
        "# Break off train and test set from data\n",
        "X_train, X_test, y_train, y_test = train_test_split(X_all_sc, y, train_size=0.8, test_size=0.2,stratify=y,\n",
        "                                                                random_state=0)"
      ]
    },
    {
      "cell_type": "markdown",
      "id": "880fde51",
      "metadata": {
        "papermill": {
          "duration": 0.022928,
          "end_time": "2022-12-03T18:55:24.641467",
          "exception": false,
          "start_time": "2022-12-03T18:55:24.618539",
          "status": "completed"
        },
        "tags": [],
        "id": "880fde51"
      },
      "source": [
        "# Spot check Models"
      ]
    },
    {
      "cell_type": "code",
      "execution_count": 55,
      "id": "d29ee4fa",
      "metadata": {
        "execution": {
          "iopub.execute_input": "2022-12-03T18:55:24.690061Z",
          "iopub.status.busy": "2022-12-03T18:55:24.688480Z",
          "iopub.status.idle": "2022-12-03T18:56:35.035562Z",
          "shell.execute_reply": "2022-12-03T18:56:35.030983Z"
        },
        "papermill": {
          "duration": 70.394505,
          "end_time": "2022-12-03T18:56:35.059275",
          "exception": false,
          "start_time": "2022-12-03T18:55:24.664770",
          "status": "completed"
        },
        "tags": [],
        "colab": {
          "base_uri": "https://localhost:8080/"
        },
        "id": "d29ee4fa",
        "outputId": "0c1228bb-aa95-4276-ab43-6fae6a0f5f8a"
      },
      "outputs": [
        {
          "output_type": "stream",
          "name": "stdout",
          "text": [
            "Training time: 81.78854608535767s\n"
          ]
        }
      ],
      "source": [
        "start = time.time()\n",
        "# Spot Check Algorithms\n",
        "models = []\n",
        "models.append(('LR', LogisticRegression(random_state=0)))\n",
        "models.append(('KNB', KNeighborsClassifier()))\n",
        "models.append(('GNB', GaussianNB()))\n",
        "models.append(('HGBM', HistGradientBoostingClassifier(random_state=0)))\n",
        "\n",
        "results_tr = []\n",
        "results_t = []\n",
        "names = []\n",
        "score = []\n",
        "skf = StratifiedKFold(n_splits=5,random_state=0, shuffle=True)\n",
        "for (name, model) in models:\n",
        "    param_grid = {}\n",
        "    my_model = GridSearchCV(model,param_grid,cv=skf)\n",
        "    my_model.fit(X_train, y_train)\n",
        "    predictions_tr = my_model.predict_proba(X_train)[:, 1]\n",
        "    predictions_t = my_model.predict_proba(X_test)[:, 1]\n",
        "    auc_train = roc_auc_score(y_train, predictions_tr)  \n",
        "    auc_test = roc_auc_score(y_test, predictions_t) \n",
        "    results_tr.append(auc_train)\n",
        "    results_t.append(auc_test)\n",
        "    \n",
        "    names.append(name)\n",
        "    f_dict = {\n",
        "        'model': name,\n",
        "        'auc_train': auc_train,\n",
        "        'auc_test': auc_test\n",
        "    }\n",
        "    score.append(f_dict)   \n",
        "\n",
        "stop = time.time()\n",
        "print(f\"Training time: {stop - start}s\")"
      ]
    },
    {
      "cell_type": "code",
      "execution_count": 56,
      "id": "e37a7ba5",
      "metadata": {
        "execution": {
          "iopub.execute_input": "2022-12-03T18:56:35.108311Z",
          "iopub.status.busy": "2022-12-03T18:56:35.107943Z",
          "iopub.status.idle": "2022-12-03T18:56:35.119724Z",
          "shell.execute_reply": "2022-12-03T18:56:35.118665Z"
        },
        "papermill": {
          "duration": 0.038008,
          "end_time": "2022-12-03T18:56:35.121755",
          "exception": false,
          "start_time": "2022-12-03T18:56:35.083747",
          "status": "completed"
        },
        "tags": [],
        "colab": {
          "base_uri": "https://localhost:8080/",
          "height": 175
        },
        "id": "e37a7ba5",
        "outputId": "7b57a8e8-1a57-4f00-d0df-74bdf32d9e3c"
      },
      "outputs": [
        {
          "output_type": "execute_result",
          "data": {
            "text/plain": [
              "  model  auc_train  auc_test\n",
              "0    LR   0.779368  0.778922\n",
              "1   KNB   0.909546  0.723211\n",
              "2   GNB   0.805027  0.803807\n",
              "3  HGBM   0.832758  0.826070"
            ],
            "text/html": [
              "\n",
              "  <div id=\"df-3a83cbe2-7c42-43cf-b826-cebf603d4bd4\">\n",
              "    <div class=\"colab-df-container\">\n",
              "      <div>\n",
              "<style scoped>\n",
              "    .dataframe tbody tr th:only-of-type {\n",
              "        vertical-align: middle;\n",
              "    }\n",
              "\n",
              "    .dataframe tbody tr th {\n",
              "        vertical-align: top;\n",
              "    }\n",
              "\n",
              "    .dataframe thead th {\n",
              "        text-align: right;\n",
              "    }\n",
              "</style>\n",
              "<table border=\"1\" class=\"dataframe\">\n",
              "  <thead>\n",
              "    <tr style=\"text-align: right;\">\n",
              "      <th></th>\n",
              "      <th>model</th>\n",
              "      <th>auc_train</th>\n",
              "      <th>auc_test</th>\n",
              "    </tr>\n",
              "  </thead>\n",
              "  <tbody>\n",
              "    <tr>\n",
              "      <th>0</th>\n",
              "      <td>LR</td>\n",
              "      <td>0.779368</td>\n",
              "      <td>0.778922</td>\n",
              "    </tr>\n",
              "    <tr>\n",
              "      <th>1</th>\n",
              "      <td>KNB</td>\n",
              "      <td>0.909546</td>\n",
              "      <td>0.723211</td>\n",
              "    </tr>\n",
              "    <tr>\n",
              "      <th>2</th>\n",
              "      <td>GNB</td>\n",
              "      <td>0.805027</td>\n",
              "      <td>0.803807</td>\n",
              "    </tr>\n",
              "    <tr>\n",
              "      <th>3</th>\n",
              "      <td>HGBM</td>\n",
              "      <td>0.832758</td>\n",
              "      <td>0.826070</td>\n",
              "    </tr>\n",
              "  </tbody>\n",
              "</table>\n",
              "</div>\n",
              "      <button class=\"colab-df-convert\" onclick=\"convertToInteractive('df-3a83cbe2-7c42-43cf-b826-cebf603d4bd4')\"\n",
              "              title=\"Convert this dataframe to an interactive table.\"\n",
              "              style=\"display:none;\">\n",
              "        \n",
              "  <svg xmlns=\"http://www.w3.org/2000/svg\" height=\"24px\"viewBox=\"0 0 24 24\"\n",
              "       width=\"24px\">\n",
              "    <path d=\"M0 0h24v24H0V0z\" fill=\"none\"/>\n",
              "    <path d=\"M18.56 5.44l.94 2.06.94-2.06 2.06-.94-2.06-.94-.94-2.06-.94 2.06-2.06.94zm-11 1L8.5 8.5l.94-2.06 2.06-.94-2.06-.94L8.5 2.5l-.94 2.06-2.06.94zm10 10l.94 2.06.94-2.06 2.06-.94-2.06-.94-.94-2.06-.94 2.06-2.06.94z\"/><path d=\"M17.41 7.96l-1.37-1.37c-.4-.4-.92-.59-1.43-.59-.52 0-1.04.2-1.43.59L10.3 9.45l-7.72 7.72c-.78.78-.78 2.05 0 2.83L4 21.41c.39.39.9.59 1.41.59.51 0 1.02-.2 1.41-.59l7.78-7.78 2.81-2.81c.8-.78.8-2.07 0-2.86zM5.41 20L4 18.59l7.72-7.72 1.47 1.35L5.41 20z\"/>\n",
              "  </svg>\n",
              "      </button>\n",
              "      \n",
              "  <style>\n",
              "    .colab-df-container {\n",
              "      display:flex;\n",
              "      flex-wrap:wrap;\n",
              "      gap: 12px;\n",
              "    }\n",
              "\n",
              "    .colab-df-convert {\n",
              "      background-color: #E8F0FE;\n",
              "      border: none;\n",
              "      border-radius: 50%;\n",
              "      cursor: pointer;\n",
              "      display: none;\n",
              "      fill: #1967D2;\n",
              "      height: 32px;\n",
              "      padding: 0 0 0 0;\n",
              "      width: 32px;\n",
              "    }\n",
              "\n",
              "    .colab-df-convert:hover {\n",
              "      background-color: #E2EBFA;\n",
              "      box-shadow: 0px 1px 2px rgba(60, 64, 67, 0.3), 0px 1px 3px 1px rgba(60, 64, 67, 0.15);\n",
              "      fill: #174EA6;\n",
              "    }\n",
              "\n",
              "    [theme=dark] .colab-df-convert {\n",
              "      background-color: #3B4455;\n",
              "      fill: #D2E3FC;\n",
              "    }\n",
              "\n",
              "    [theme=dark] .colab-df-convert:hover {\n",
              "      background-color: #434B5C;\n",
              "      box-shadow: 0px 1px 3px 1px rgba(0, 0, 0, 0.15);\n",
              "      filter: drop-shadow(0px 1px 2px rgba(0, 0, 0, 0.3));\n",
              "      fill: #FFFFFF;\n",
              "    }\n",
              "  </style>\n",
              "\n",
              "      <script>\n",
              "        const buttonEl =\n",
              "          document.querySelector('#df-3a83cbe2-7c42-43cf-b826-cebf603d4bd4 button.colab-df-convert');\n",
              "        buttonEl.style.display =\n",
              "          google.colab.kernel.accessAllowed ? 'block' : 'none';\n",
              "\n",
              "        async function convertToInteractive(key) {\n",
              "          const element = document.querySelector('#df-3a83cbe2-7c42-43cf-b826-cebf603d4bd4');\n",
              "          const dataTable =\n",
              "            await google.colab.kernel.invokeFunction('convertToInteractive',\n",
              "                                                     [key], {});\n",
              "          if (!dataTable) return;\n",
              "\n",
              "          const docLinkHtml = 'Like what you see? Visit the ' +\n",
              "            '<a target=\"_blank\" href=https://colab.research.google.com/notebooks/data_table.ipynb>data table notebook</a>'\n",
              "            + ' to learn more about interactive tables.';\n",
              "          element.innerHTML = '';\n",
              "          dataTable['output_type'] = 'display_data';\n",
              "          await google.colab.output.renderOutput(dataTable, element);\n",
              "          const docLink = document.createElement('div');\n",
              "          docLink.innerHTML = docLinkHtml;\n",
              "          element.appendChild(docLink);\n",
              "        }\n",
              "      </script>\n",
              "    </div>\n",
              "  </div>\n",
              "  "
            ]
          },
          "metadata": {},
          "execution_count": 56
        }
      ],
      "source": [
        "# Look at the auc score for each model and for each sub set\n",
        "score = pd.DataFrame(score, columns = ['model','auc_train','auc_test'])\n",
        "score"
      ]
    },
    {
      "cell_type": "code",
      "execution_count": 57,
      "id": "392b9513",
      "metadata": {
        "execution": {
          "iopub.execute_input": "2022-12-03T18:56:35.171245Z",
          "iopub.status.busy": "2022-12-03T18:56:35.170979Z",
          "iopub.status.idle": "2022-12-03T18:56:35.508026Z",
          "shell.execute_reply": "2022-12-03T18:56:35.507108Z"
        },
        "papermill": {
          "duration": 0.364008,
          "end_time": "2022-12-03T18:56:35.510381",
          "exception": false,
          "start_time": "2022-12-03T18:56:35.146373",
          "status": "completed"
        },
        "tags": [],
        "colab": {
          "base_uri": "https://localhost:8080/",
          "height": 390
        },
        "id": "392b9513",
        "outputId": "655b7ce1-7a53-45a4-8e64-b8d2c414250d"
      },
      "outputs": [
        {
          "output_type": "stream",
          "name": "stdout",
          "text": [
            "Spot Check Models\n"
          ]
        },
        {
          "output_type": "display_data",
          "data": {
            "text/plain": [
              "<Figure size 1080x360 with 2 Axes>"
            ],
            "image/png": "[encoded data removed]"
          },
          "metadata": {
            "needs_background": "light"
          }
        }
      ],
      "source": [
        "# Plot results for a graphical comparison\n",
        "print(\"Spot Check Models\")\n",
        "plt.rcParams['figure.figsize']=(15,5)\n",
        "plt.figure()\n",
        "plt.subplot(1,2,1)  \n",
        "sns.stripplot(x=\"model\", y=\"auc_train\",data=score,size=15)\n",
        "plt.xticks(rotation=45)\n",
        "plt.title('Train results')\n",
        "axes = plt.gca()\n",
        "axes.set_ylim([0,1.1])\n",
        "plt.subplot(1,2,2)\n",
        "sns.stripplot(x=\"model\", y=\"auc_test\",data=score,size=15)\n",
        "plt.xticks(rotation=45)\n",
        "plt.title('Test results')\n",
        "axes = plt.gca()\n",
        "axes.set_ylim([0,1.1])\n",
        "plt.show()"
      ]
    },
    {
      "cell_type": "markdown",
      "id": "1af3a312",
      "metadata": {
        "papermill": {
          "duration": 0.023983,
          "end_time": "2022-12-03T18:56:35.557978",
          "exception": false,
          "start_time": "2022-12-03T18:56:35.533995",
          "status": "completed"
        },
        "tags": [],
        "id": "1af3a312"
      },
      "source": [
        "# Tuning"
      ]
    },
    {
      "cell_type": "code",
      "execution_count": 58,
      "id": "a6fb7bc7",
      "metadata": {
        "execution": {
          "iopub.execute_input": "2022-12-03T18:56:35.614127Z",
          "iopub.status.busy": "2022-12-03T18:56:35.613374Z",
          "iopub.status.idle": "2022-12-03T18:57:50.126011Z",
          "shell.execute_reply": "2022-12-03T18:57:50.124714Z"
        },
        "papermill": {
          "duration": 74.567525,
          "end_time": "2022-12-03T18:57:50.152399",
          "exception": false,
          "start_time": "2022-12-03T18:56:35.584874",
          "status": "completed"
        },
        "tags": [],
        "colab": {
          "base_uri": "https://localhost:8080/"
        },
        "id": "a6fb7bc7",
        "outputId": "db410f16-757e-4696-c174-f33c9ea908c2"
      },
      "outputs": [
        {
          "output_type": "stream",
          "name": "stdout",
          "text": [
            "Training time: 74.1064887046814s\n"
          ]
        }
      ],
      "source": [
        "start = time.time()\n",
        "# cross validation\n",
        "skf = StratifiedKFold(n_splits=5, random_state=0, shuffle=True)\n",
        "# define models and parameters\n",
        "HGBM = HistGradientBoostingClassifier(random_state=0)\n",
        "# define grid search\n",
        "hyp_space = {\"max_depth\": [10,21],\n",
        "             \"learning_rate\": [0.02,0.5],\n",
        "             \"max_bins\": [80, 195]}\n",
        "# Tuning and fit the model \n",
        "HGBM_model = GridSearchCV(HGBM, hyp_space, n_jobs=-1, cv=skf, scoring='roc_auc', error_score=0).fit(X_train, y_train)\n",
        "stop = time.time()\n",
        "print(f\"Training time: {stop-start}s\")"
      ]
    },
    {
      "cell_type": "code",
      "execution_count": 59,
      "id": "ef41f700",
      "metadata": {
        "execution": {
          "iopub.execute_input": "2022-12-03T18:57:50.202904Z",
          "iopub.status.busy": "2022-12-03T18:57:50.202567Z",
          "iopub.status.idle": "2022-12-03T18:57:50.208864Z",
          "shell.execute_reply": "2022-12-03T18:57:50.207892Z"
        },
        "papermill": {
          "duration": 0.0337,
          "end_time": "2022-12-03T18:57:50.210911",
          "exception": false,
          "start_time": "2022-12-03T18:57:50.177211",
          "status": "completed"
        },
        "tags": [],
        "id": "ef41f700"
      },
      "outputs": [],
      "source": [
        "def display(results):\n",
        "    print(f'Best parameters are: {results.best_params_}')\n",
        "    print(\"\\n\")\n",
        "    mean_score = results.cv_results_['mean_test_score'] \n",
        "    std_score = results.cv_results_['std_test_score'] \n",
        "    params = results.cv_results_['params']\n",
        "    for mean,std,params in zip(mean_score,std_score,params):\n",
        "        print(f'{round(mean,3)} + or -{round(std,3)} for the {params}')"
      ]
    },
    {
      "cell_type": "code",
      "execution_count": 60,
      "id": "f6317eb5",
      "metadata": {
        "execution": {
          "iopub.execute_input": "2022-12-03T18:57:50.260508Z",
          "iopub.status.busy": "2022-12-03T18:57:50.259706Z",
          "iopub.status.idle": "2022-12-03T18:57:50.266084Z",
          "shell.execute_reply": "2022-12-03T18:57:50.264482Z"
        },
        "papermill": {
          "duration": 0.034179,
          "end_time": "2022-12-03T18:57:50.268672",
          "exception": false,
          "start_time": "2022-12-03T18:57:50.234493",
          "status": "completed"
        },
        "tags": [],
        "colab": {
          "base_uri": "https://localhost:8080/"
        },
        "id": "f6317eb5",
        "outputId": "dc431634-478b-4d11-860f-d9c15f9555c9"
      },
      "outputs": [
        {
          "output_type": "stream",
          "name": "stdout",
          "text": [
            "Best parameters are: {'learning_rate': 0.02, 'max_bins': 80, 'max_depth': 10}\n",
            "\n",
            "\n",
            "0.827 + or -0.001 for the {'learning_rate': 0.02, 'max_bins': 80, 'max_depth': 10}\n",
            "0.827 + or -0.001 for the {'learning_rate': 0.02, 'max_bins': 80, 'max_depth': 21}\n",
            "0.827 + or -0.001 for the {'learning_rate': 0.02, 'max_bins': 195, 'max_depth': 10}\n",
            "0.827 + or -0.001 for the {'learning_rate': 0.02, 'max_bins': 195, 'max_depth': 21}\n",
            "0.821 + or -0.006 for the {'learning_rate': 0.5, 'max_bins': 80, 'max_depth': 10}\n",
            "0.825 + or -0.002 for the {'learning_rate': 0.5, 'max_bins': 80, 'max_depth': 21}\n",
            "0.825 + or -0.001 for the {'learning_rate': 0.5, 'max_bins': 195, 'max_depth': 10}\n",
            "0.825 + or -0.001 for the {'learning_rate': 0.5, 'max_bins': 195, 'max_depth': 21}\n"
          ]
        }
      ],
      "source": [
        "display(HGBM_model)"
      ]
    },
    {
      "cell_type": "markdown",
      "id": "e6dc6bfc",
      "metadata": {
        "papermill": {
          "duration": 0.023482,
          "end_time": "2022-12-03T18:57:50.316280",
          "exception": false,
          "start_time": "2022-12-03T18:57:50.292798",
          "status": "completed"
        },
        "tags": [],
        "id": "e6dc6bfc"
      },
      "source": [
        "# Modelling"
      ]
    },
    {
      "cell_type": "code",
      "execution_count": 61,
      "id": "fff7bdc4",
      "metadata": {
        "execution": {
          "iopub.execute_input": "2022-12-03T18:57:50.366190Z",
          "iopub.status.busy": "2022-12-03T18:57:50.365876Z",
          "iopub.status.idle": "2022-12-03T18:57:54.727854Z",
          "shell.execute_reply": "2022-12-03T18:57:54.726860Z"
        },
        "papermill": {
          "duration": 4.390144,
          "end_time": "2022-12-03T18:57:54.730334",
          "exception": false,
          "start_time": "2022-12-03T18:57:50.340190",
          "status": "completed"
        },
        "tags": [],
        "id": "fff7bdc4"
      },
      "outputs": [],
      "source": [
        "# Model\n",
        "HGBM_ = HistGradientBoostingClassifier(random_state=0,learning_rate=0.02, max_bins=80, max_depth= 10)\n",
        "# Define the model\n",
        "HGBM_model_ = HGBM_.fit(X_train, y_train)"
      ]
    },
    {
      "cell_type": "code",
      "execution_count": 62,
      "id": "dd5c8a73",
      "metadata": {
        "execution": {
          "iopub.execute_input": "2022-12-03T18:57:54.781083Z",
          "iopub.status.busy": "2022-12-03T18:57:54.780043Z",
          "iopub.status.idle": "2022-12-03T18:57:57.621107Z",
          "shell.execute_reply": "2022-12-03T18:57:57.619836Z"
        },
        "papermill": {
          "duration": 2.869486,
          "end_time": "2022-12-03T18:57:57.623902",
          "exception": false,
          "start_time": "2022-12-03T18:57:54.754416",
          "status": "completed"
        },
        "tags": [],
        "colab": {
          "base_uri": "https://localhost:8080/"
        },
        "id": "dd5c8a73",
        "outputId": "9d0628ab-66fa-4c23-9212-9b7db321f86c"
      },
      "outputs": [
        {
          "output_type": "stream",
          "name": "stdout",
          "text": [
            "Training time: 1.9640007019042969s\n"
          ]
        }
      ],
      "source": [
        "start = time.time()\n",
        "# prediction\n",
        "predictions_tr = HGBM_model_.predict(X_train)\n",
        "predictions_tr_ = pd.DataFrame(predictions_tr, columns=['y_train_pred'])\n",
        "predictions_te = HGBM_model_.predict(X_test)\n",
        "predictions_te_ = pd.DataFrame(predictions_te, columns=['y_test_pred'])\n",
        "stop = time.time()\n",
        "print(f\"Training time: {stop-start}s\")"
      ]
    },
    {
      "cell_type": "markdown",
      "id": "fd7528b5",
      "metadata": {
        "papermill": {
          "duration": 0.023477,
          "end_time": "2022-12-03T18:57:57.672830",
          "exception": false,
          "start_time": "2022-12-03T18:57:57.649353",
          "status": "completed"
        },
        "tags": [],
        "id": "fd7528b5"
      },
      "source": [
        "# Evaluation"
      ]
    },
    {
      "cell_type": "code",
      "execution_count": 63,
      "id": "4a760bb7",
      "metadata": {
        "execution": {
          "iopub.execute_input": "2022-12-03T18:57:57.721491Z",
          "iopub.status.busy": "2022-12-03T18:57:57.720863Z",
          "iopub.status.idle": "2022-12-03T18:58:00.418217Z",
          "shell.execute_reply": "2022-12-03T18:58:00.417207Z"
        },
        "papermill": {
          "duration": 2.72444,
          "end_time": "2022-12-03T18:58:00.420910",
          "exception": false,
          "start_time": "2022-12-03T18:57:57.696470",
          "status": "completed"
        },
        "tags": [],
        "id": "4a760bb7"
      },
      "outputs": [],
      "source": [
        "auc_train = roc_auc_score(y_train, HGBM_model_.predict_proba(X_train)[:, 1])  \n",
        "auc_test = roc_auc_score(y_test, HGBM_model_.predict_proba(X_test)[:, 1]) "
      ]
    },
    {
      "cell_type": "code",
      "execution_count": 64,
      "id": "71b368ef",
      "metadata": {
        "execution": {
          "iopub.execute_input": "2022-12-03T18:58:00.469977Z",
          "iopub.status.busy": "2022-12-03T18:58:00.469648Z",
          "iopub.status.idle": "2022-12-03T18:58:00.485199Z",
          "shell.execute_reply": "2022-12-03T18:58:00.483585Z"
        },
        "papermill": {
          "duration": 0.04392,
          "end_time": "2022-12-03T18:58:00.489087",
          "exception": false,
          "start_time": "2022-12-03T18:58:00.445167",
          "status": "completed"
        },
        "tags": [],
        "colab": {
          "base_uri": "https://localhost:8080/",
          "height": 98
        },
        "id": "71b368ef",
        "outputId": "29e01af4-6916-4713-ce02-f42698b22a6e"
      },
      "outputs": [
        {
          "output_type": "stream",
          "name": "stdout",
          "text": [
            "HGBM evaluation on cross-sell prediction\n"
          ]
        },
        {
          "output_type": "execute_result",
          "data": {
            "text/plain": [
              "  model evaluation     train      test\n",
              "0  HGBM        AUC  0.829531  0.826265"
            ],
            "text/html": [
              "\n",
              "  <div id=\"df-97296be2-8e64-48cb-928c-58fa169cf65f\">\n",
              "    <div class=\"colab-df-container\">\n",
              "      <div>\n",
              "<style scoped>\n",
              "    .dataframe tbody tr th:only-of-type {\n",
              "        vertical-align: middle;\n",
              "    }\n",
              "\n",
              "    .dataframe tbody tr th {\n",
              "        vertical-align: top;\n",
              "    }\n",
              "\n",
              "    .dataframe thead th {\n",
              "        text-align: right;\n",
              "    }\n",
              "</style>\n",
              "<table border=\"1\" class=\"dataframe\">\n",
              "  <thead>\n",
              "    <tr style=\"text-align: right;\">\n",
              "      <th></th>\n",
              "      <th>model</th>\n",
              "      <th>evaluation</th>\n",
              "      <th>train</th>\n",
              "      <th>test</th>\n",
              "    </tr>\n",
              "  </thead>\n",
              "  <tbody>\n",
              "    <tr>\n",
              "      <th>0</th>\n",
              "      <td>HGBM</td>\n",
              "      <td>AUC</td>\n",
              "      <td>0.829531</td>\n",
              "      <td>0.826265</td>\n",
              "    </tr>\n",
              "  </tbody>\n",
              "</table>\n",
              "</div>\n",
              "      <button class=\"colab-df-convert\" onclick=\"convertToInteractive('df-97296be2-8e64-48cb-928c-58fa169cf65f')\"\n",
              "              title=\"Convert this dataframe to an interactive table.\"\n",
              "              style=\"display:none;\">\n",
              "        \n",
              "  <svg xmlns=\"http://www.w3.org/2000/svg\" height=\"24px\"viewBox=\"0 0 24 24\"\n",
              "       width=\"24px\">\n",
              "    <path d=\"M0 0h24v24H0V0z\" fill=\"none\"/>\n",
              "    <path d=\"M18.56 5.44l.94 2.06.94-2.06 2.06-.94-2.06-.94-.94-2.06-.94 2.06-2.06.94zm-11 1L8.5 8.5l.94-2.06 2.06-.94-2.06-.94L8.5 2.5l-.94 2.06-2.06.94zm10 10l.94 2.06.94-2.06 2.06-.94-2.06-.94-.94-2.06-.94 2.06-2.06.94z\"/><path d=\"M17.41 7.96l-1.37-1.37c-.4-.4-.92-.59-1.43-.59-.52 0-1.04.2-1.43.59L10.3 9.45l-7.72 7.72c-.78.78-.78 2.05 0 2.83L4 21.41c.39.39.9.59 1.41.59.51 0 1.02-.2 1.41-.59l7.78-7.78 2.81-2.81c.8-.78.8-2.07 0-2.86zM5.41 20L4 18.59l7.72-7.72 1.47 1.35L5.41 20z\"/>\n",
              "  </svg>\n",
              "      </button>\n",
              "      \n",
              "  <style>\n",
              "    .colab-df-container {\n",
              "      display:flex;\n",
              "      flex-wrap:wrap;\n",
              "      gap: 12px;\n",
              "    }\n",
              "\n",
              "    .colab-df-convert {\n",
              "      background-color: #E8F0FE;\n",
              "      border: none;\n",
              "      border-radius: 50%;\n",
              "      cursor: pointer;\n",
              "      display: none;\n",
              "      fill: #1967D2;\n",
              "      height: 32px;\n",
              "      padding: 0 0 0 0;\n",
              "      width: 32px;\n",
              "    }\n",
              "\n",
              "    .colab-df-convert:hover {\n",
              "      background-color: #E2EBFA;\n",
              "      box-shadow: 0px 1px 2px rgba(60, 64, 67, 0.3), 0px 1px 3px 1px rgba(60, 64, 67, 0.15);\n",
              "      fill: #174EA6;\n",
              "    }\n",
              "\n",
              "    [theme=dark] .colab-df-convert {\n",
              "      background-color: #3B4455;\n",
              "      fill: #D2E3FC;\n",
              "    }\n",
              "\n",
              "    [theme=dark] .colab-df-convert:hover {\n",
              "      background-color: #434B5C;\n",
              "      box-shadow: 0px 1px 3px 1px rgba(0, 0, 0, 0.15);\n",
              "      filter: drop-shadow(0px 1px 2px rgba(0, 0, 0, 0.3));\n",
              "      fill: #FFFFFF;\n",
              "    }\n",
              "  </style>\n",
              "\n",
              "      <script>\n",
              "        const buttonEl =\n",
              "          document.querySelector('#df-97296be2-8e64-48cb-928c-58fa169cf65f button.colab-df-convert');\n",
              "        buttonEl.style.display =\n",
              "          google.colab.kernel.accessAllowed ? 'block' : 'none';\n",
              "\n",
              "        async function convertToInteractive(key) {\n",
              "          const element = document.querySelector('#df-97296be2-8e64-48cb-928c-58fa169cf65f');\n",
              "          const dataTable =\n",
              "            await google.colab.kernel.invokeFunction('convertToInteractive',\n",
              "                                                     [key], {});\n",
              "          if (!dataTable) return;\n",
              "\n",
              "          const docLinkHtml = 'Like what you see? Visit the ' +\n",
              "            '<a target=\"_blank\" href=https://colab.research.google.com/notebooks/data_table.ipynb>data table notebook</a>'\n",
              "            + ' to learn more about interactive tables.';\n",
              "          element.innerHTML = '';\n",
              "          dataTable['output_type'] = 'display_data';\n",
              "          await google.colab.output.renderOutput(dataTable, element);\n",
              "          const docLink = document.createElement('div');\n",
              "          docLink.innerHTML = docLinkHtml;\n",
              "          element.appendChild(docLink);\n",
              "        }\n",
              "      </script>\n",
              "    </div>\n",
              "  </div>\n",
              "  "
            ]
          },
          "metadata": {},
          "execution_count": 64
        }
      ],
      "source": [
        "# metrics table\n",
        "d1 = {'evaluation': ['AUC'],\n",
        "     'model': ['HGBM'],\n",
        "    'train': [auc_train],\n",
        "    'test': [auc_test]\n",
        "        }\n",
        "df1 = pd.DataFrame(data=d1, columns=['model','evaluation','train','test'])\n",
        "print('HGBM evaluation on cross-sell prediction')\n",
        "df1"
      ]
    },
    {
      "cell_type": "code",
      "execution_count": 65,
      "id": "2291cd9c",
      "metadata": {
        "execution": {
          "iopub.execute_input": "2022-12-03T18:58:00.540091Z",
          "iopub.status.busy": "2022-12-03T18:58:00.539291Z",
          "iopub.status.idle": "2022-12-03T18:58:00.546595Z",
          "shell.execute_reply": "2022-12-03T18:58:00.545613Z"
        },
        "papermill": {
          "duration": 0.034626,
          "end_time": "2022-12-03T18:58:00.548598",
          "exception": false,
          "start_time": "2022-12-03T18:58:00.513972",
          "status": "completed"
        },
        "tags": [],
        "id": "2291cd9c"
      },
      "outputs": [],
      "source": [
        "def plot_roc_auc(y_test, y_score, classes):\n",
        "    fpr, tpr, _ = roc_curve(y_test, y_score)\n",
        "    roc_auc = auc(fpr, tpr)\n",
        "    plt.rcParams['figure.figsize']=(10,5)\n",
        "    plt.plot(fpr, tpr,color='orange', lw=2, label='ROC curve (area = {0:0.2f})'.format(roc_auc))\n",
        "    plt.plot([0, 1], [0, 1],color='brown', lw=2, linestyle='--' )\n",
        "    plt.xlim([-0.01, 1.0])\n",
        "    plt.ylim([0.0, 1.05])\n",
        "    plt.xlabel('False Positive Rate')\n",
        "    plt.ylabel('True Positive Rate')\n",
        "    plt.title('Receiver Operating Characteristic')\n",
        "    plt.legend(loc=\"lower right\")\n",
        "    plt.show()"
      ]
    },
    {
      "cell_type": "code",
      "execution_count": 66,
      "id": "08debcf1",
      "metadata": {
        "execution": {
          "iopub.execute_input": "2022-12-03T18:58:00.598031Z",
          "iopub.status.busy": "2022-12-03T18:58:00.597731Z",
          "iopub.status.idle": "2022-12-03T18:58:03.677708Z",
          "shell.execute_reply": "2022-12-03T18:58:03.676823Z"
        },
        "papermill": {
          "duration": 3.107538,
          "end_time": "2022-12-03T18:58:03.679751",
          "exception": false,
          "start_time": "2022-12-03T18:58:00.572213",
          "status": "completed"
        },
        "tags": [],
        "colab": {
          "base_uri": "https://localhost:8080/",
          "height": 726
        },
        "id": "08debcf1",
        "outputId": "1656433f-984d-46d9-97fa-8a838cb02b77"
      },
      "outputs": [
        {
          "output_type": "stream",
          "name": "stdout",
          "text": [
            "ROC on train\n"
          ]
        },
        {
          "output_type": "display_data",
          "data": {
            "text/plain": [
              "<Figure size 720x360 with 1 Axes>"
            ],
            "image/png": "[encoded data removed]"
          },
          "metadata": {
            "needs_background": "light"
          }
        },
        {
          "output_type": "stream",
          "name": "stdout",
          "text": [
            "ROC on test\n"
          ]
        },
        {
          "output_type": "display_data",
          "data": {
            "text/plain": [
              "<Figure size 720x360 with 1 Axes>"
            ],
            "image/png": "[encoded data removed]"
          },
          "metadata": {
            "needs_background": "light"
          }
        }
      ],
      "source": [
        "print('ROC on train')\n",
        "plot_roc_auc(y_train, HGBM_model_.predict_proba(X_train)[:, 1], 2)\n",
        "print('ROC on test')\n",
        "plot_roc_auc(y_test, HGBM_model_.predict_proba(X_test)[:, 1], 2)"
      ]
    },
    {
      "cell_type": "markdown",
      "id": "76864174",
      "metadata": {
        "papermill": {
          "duration": 0.024867,
          "end_time": "2022-12-03T18:58:03.730023",
          "exception": false,
          "start_time": "2022-12-03T18:58:03.705156",
          "status": "completed"
        },
        "tags": [],
        "id": "76864174"
      },
      "source": [
        "# Feature Importance"
      ]
    },
    {
      "cell_type": "code",
      "execution_count": 67,
      "id": "e5152934",
      "metadata": {
        "execution": {
          "iopub.execute_input": "2022-12-03T18:58:03.781777Z",
          "iopub.status.busy": "2022-12-03T18:58:03.780877Z",
          "iopub.status.idle": "2022-12-03T18:58:32.147181Z",
          "shell.execute_reply": "2022-12-03T18:58:32.146144Z"
        },
        "papermill": {
          "duration": 28.395552,
          "end_time": "2022-12-03T18:58:32.149969",
          "exception": false,
          "start_time": "2022-12-03T18:58:03.754417",
          "status": "completed"
        },
        "tags": [],
        "id": "e5152934"
      },
      "outputs": [],
      "source": [
        "explainer = shap.TreeExplainer(HGBM_model_)\n",
        "shap_values = explainer.shap_values(X_test)"
      ]
    },
    {
      "cell_type": "code",
      "execution_count": 68,
      "id": "6a8abb21",
      "metadata": {
        "execution": {
          "iopub.execute_input": "2022-12-03T18:58:32.201448Z",
          "iopub.status.busy": "2022-12-03T18:58:32.201131Z",
          "iopub.status.idle": "2022-12-03T18:58:32.459232Z",
          "shell.execute_reply": "2022-12-03T18:58:32.458287Z"
        },
        "papermill": {
          "duration": 0.28595,
          "end_time": "2022-12-03T18:58:32.461352",
          "exception": false,
          "start_time": "2022-12-03T18:58:32.175402",
          "status": "completed"
        },
        "tags": [],
        "colab": {
          "base_uri": "https://localhost:8080/",
          "height": 307
        },
        "id": "6a8abb21",
        "outputId": "815efe40-d7d4-400c-ccf5-f1ea7ba8fae6"
      },
      "outputs": [
        {
          "output_type": "stream",
          "name": "stdout",
          "text": [
            "HGBM SHAP BARPLOT on test Values\n"
          ]
        },
        {
          "output_type": "display_data",
          "data": {
            "text/plain": [
              "<Figure size 576x280.8 with 1 Axes>"
            ],
            "image/png": "[encoded data removed]"
          },
          "metadata": {
            "needs_background": "light"
          }
        }
      ],
      "source": [
        "# Global SHAP on test\n",
        "print(\"HGBM SHAP BARPLOT on test Values\")\n",
        "shap.summary_plot(shap_values, features=X_test, feature_names=X_test.columns,plot_type='bar')"
      ]
    }
  ],
  "metadata": {
    "kernelspec": {
      "display_name": "Python 3",
      "language": "python",
      "name": "python3"
    },
    "language_info": {
      "codemirror_mode": {
        "name": "ipython",
        "version": 3
      },
      "file_extension": ".py",
      "mimetype": "text/x-python",
      "name": "python",
      "nbconvert_exporter": "python",
      "pygments_lexer": "ipython3",
      "version": "3.7.12"
    },
    "papermill": {
      "default_parameters": {},
      "duration": 232.795721,
      "end_time": "2022-12-03T18:58:35.105941",
      "environment_variables": {},
      "exception": null,
      "input_path": "__notebook__.ipynb",
      "output_path": "__notebook__.ipynb",
      "parameters": {},
      "start_time": "2022-12-03T18:54:42.310220",
      "version": "2.3.4"
    },
    "colab": {
      "provenance": [],
      "include_colab_link": true
    },
    "accelerator": "GPU",
    "gpuClass": "standard"
  },
  "nbformat": 4,
  "nbformat_minor": 5
}